{
 "cells": [
  {
   "cell_type": "markdown",
   "metadata": {},
   "source": [
    "# hr-analytics-attrition-prediction-recommendation\n"
   ]
  },
  {
   "cell_type": "code",
   "execution_count": 1,
   "metadata": {},
   "outputs": [
    {
     "name": "stdout",
     "output_type": "stream",
     "text": [
      "Requirement already satisfied: pandas in /opt/conda/lib/python3.9/site-packages (1.3.4)\r\n",
      "Requirement already satisfied: openpyxl in /opt/conda/lib/python3.9/site-packages (3.1.2)\r\n",
      "Requirement already satisfied: python-dateutil>=2.7.3 in /opt/conda/lib/python3.9/site-packages (from pandas) (2.8.2)\r\n",
      "Requirement already satisfied: pytz>=2017.3 in /opt/conda/lib/python3.9/site-packages (from pandas) (2021.3)\r\n",
      "Requirement already satisfied: numpy>=1.17.3 in /opt/conda/lib/python3.9/site-packages (from pandas) (1.20.3)\r\n",
      "Requirement already satisfied: et-xmlfile in /opt/conda/lib/python3.9/site-packages (from openpyxl) (1.1.0)\r\n",
      "Requirement already satisfied: six>=1.5 in /opt/conda/lib/python3.9/site-packages (from python-dateutil>=2.7.3->pandas) (1.16.0)\r\n"
     ]
    }
   ],
   "source": [
    "import pandas as pd\n",
    "import numpy as np\n",
    "import matplotlib.pyplot as plt\n",
    "import seaborn as sns\n",
    "from scipy.stats import stats\n",
    "!pip install pandas openpyxl\n",
    "\n",
    "!pip install jovian --upgrade -q\n",
    "import jovian"
   ]
  },
  {
   "cell_type": "code",
   "execution_count": 2,
   "metadata": {},
   "outputs": [
    {
     "data": {
      "text/plain": [
       "['Attrition of Last Three Years - TISS HR Analytics.xls']"
      ]
     },
     "execution_count": 2,
     "metadata": {},
     "output_type": "execute_result"
    }
   ],
   "source": [
    "import os\n",
    "data_dir = './work'\n",
    "os.listdir(data_dir)"
   ]
  },
  {
   "cell_type": "code",
   "execution_count": 3,
   "metadata": {},
   "outputs": [
    {
     "data": {
      "text/html": [
       "<div>\n",
       "<style scoped>\n",
       "    .dataframe tbody tr th:only-of-type {\n",
       "        vertical-align: middle;\n",
       "    }\n",
       "\n",
       "    .dataframe tbody tr th {\n",
       "        vertical-align: top;\n",
       "    }\n",
       "\n",
       "    .dataframe thead th {\n",
       "        text-align: right;\n",
       "    }\n",
       "</style>\n",
       "<table border=\"1\" class=\"dataframe\">\n",
       "  <thead>\n",
       "    <tr style=\"text-align: right;\">\n",
       "      <th></th>\n",
       "      <th>Emp No</th>\n",
       "      <th>HQ</th>\n",
       "      <th>State</th>\n",
       "      <th>Age</th>\n",
       "      <th>DOJ</th>\n",
       "      <th>Date of Resignation</th>\n",
       "      <th>Tenure with Tata</th>\n",
       "      <th>Total Experience</th>\n",
       "      <th>Last Rating</th>\n",
       "      <th>SR Target</th>\n",
       "      <th>SR Ach</th>\n",
       "      <th>Last CTC Drawn</th>\n",
       "      <th>Education Background</th>\n",
       "      <th>New Offer</th>\n",
       "      <th>Unnamed: 14</th>\n",
       "      <th>% Increase</th>\n",
       "    </tr>\n",
       "  </thead>\n",
       "  <tbody>\n",
       "    <tr>\n",
       "      <th>0</th>\n",
       "      <td>709022</td>\n",
       "      <td>Hisar</td>\n",
       "      <td>1</td>\n",
       "      <td>53</td>\n",
       "      <td>2015-05-01</td>\n",
       "      <td>2016-07-20</td>\n",
       "      <td>1.221918</td>\n",
       "      <td>1</td>\n",
       "      <td>3</td>\n",
       "      <td>150.00</td>\n",
       "      <td>175.000000</td>\n",
       "      <td>440042.875969</td>\n",
       "      <td>M.Sc.(Agri)</td>\n",
       "      <td>6.000000e+05</td>\n",
       "      <td>NaN</td>\n",
       "      <td>0.363503</td>\n",
       "    </tr>\n",
       "    <tr>\n",
       "      <th>1</th>\n",
       "      <td>711246</td>\n",
       "      <td>Kurukshetra</td>\n",
       "      <td>1</td>\n",
       "      <td>37</td>\n",
       "      <td>2016-07-26</td>\n",
       "      <td>2016-12-02</td>\n",
       "      <td>0.353425</td>\n",
       "      <td>11</td>\n",
       "      <td>2</td>\n",
       "      <td>138.41</td>\n",
       "      <td>166.367434</td>\n",
       "      <td>665692.400000</td>\n",
       "      <td>B.Sc.(Agri)</td>\n",
       "      <td>7.800000e+05</td>\n",
       "      <td>NaN</td>\n",
       "      <td>0.171712</td>\n",
       "    </tr>\n",
       "    <tr>\n",
       "      <th>2</th>\n",
       "      <td>707658</td>\n",
       "      <td>Sirsa</td>\n",
       "      <td>1</td>\n",
       "      <td>44</td>\n",
       "      <td>2014-05-01</td>\n",
       "      <td>2017-05-03</td>\n",
       "      <td>3.008219</td>\n",
       "      <td>9</td>\n",
       "      <td>5</td>\n",
       "      <td>197.19</td>\n",
       "      <td>581.241054</td>\n",
       "      <td>858931.627962</td>\n",
       "      <td>B.Sc.(Agri)</td>\n",
       "      <td>1.065075e+06</td>\n",
       "      <td>NaN</td>\n",
       "      <td>0.240000</td>\n",
       "    </tr>\n",
       "  </tbody>\n",
       "</table>\n",
       "</div>"
      ],
      "text/plain": [
       "   Emp No           HQ  State  Age        DOJ Date of Resignation  \\\n",
       "0  709022        Hisar      1   53 2015-05-01          2016-07-20   \n",
       "1  711246  Kurukshetra      1   37 2016-07-26          2016-12-02   \n",
       "2  707658        Sirsa      1   44 2014-05-01          2017-05-03   \n",
       "\n",
       "   Tenure with Tata  Total Experience  Last Rating  SR Target      SR Ach  \\\n",
       "0          1.221918                 1            3     150.00  175.000000   \n",
       "1          0.353425                11            2     138.41  166.367434   \n",
       "2          3.008219                 9            5     197.19  581.241054   \n",
       "\n",
       "   Last CTC Drawn Education Background     New Offer  Unnamed: 14  % Increase  \n",
       "0   440042.875969          M.Sc.(Agri)  6.000000e+05          NaN    0.363503  \n",
       "1   665692.400000          B.Sc.(Agri)  7.800000e+05          NaN    0.171712  \n",
       "2   858931.627962          B.Sc.(Agri)  1.065075e+06          NaN    0.240000  "
      ]
     },
     "execution_count": 3,
     "metadata": {},
     "output_type": "execute_result"
    }
   ],
   "source": [
    "df = pd.read_excel(data_dir + '/Attrition of Last Three Years - TISS HR Analytics.xls')\n",
    "df.head(3)"
   ]
  },
  {
   "cell_type": "code",
   "execution_count": 4,
   "metadata": {},
   "outputs": [],
   "source": [
    "df.drop('Unnamed: 14', axis=1, inplace=True)"
   ]
  },
  {
   "cell_type": "code",
   "execution_count": 5,
   "metadata": {},
   "outputs": [
    {
     "data": {
      "text/html": [
       "<div>\n",
       "<style scoped>\n",
       "    .dataframe tbody tr th:only-of-type {\n",
       "        vertical-align: middle;\n",
       "    }\n",
       "\n",
       "    .dataframe tbody tr th {\n",
       "        vertical-align: top;\n",
       "    }\n",
       "\n",
       "    .dataframe thead th {\n",
       "        text-align: right;\n",
       "    }\n",
       "</style>\n",
       "<table border=\"1\" class=\"dataframe\">\n",
       "  <thead>\n",
       "    <tr style=\"text-align: right;\">\n",
       "      <th></th>\n",
       "      <th>Emp No</th>\n",
       "      <th>HQ</th>\n",
       "      <th>State</th>\n",
       "      <th>Age</th>\n",
       "      <th>DOJ</th>\n",
       "      <th>Date of Resignation</th>\n",
       "      <th>Tenure with Tata</th>\n",
       "      <th>Total Experience</th>\n",
       "      <th>Last Rating</th>\n",
       "      <th>SR Target</th>\n",
       "      <th>SR Ach</th>\n",
       "      <th>Last CTC Drawn</th>\n",
       "      <th>Education Background</th>\n",
       "      <th>New Offer</th>\n",
       "      <th>% Increase</th>\n",
       "    </tr>\n",
       "  </thead>\n",
       "  <tbody>\n",
       "    <tr>\n",
       "      <th>0</th>\n",
       "      <td>709022</td>\n",
       "      <td>Hisar</td>\n",
       "      <td>1</td>\n",
       "      <td>53</td>\n",
       "      <td>2015-05-01</td>\n",
       "      <td>2016-07-20</td>\n",
       "      <td>1.221918</td>\n",
       "      <td>1</td>\n",
       "      <td>3</td>\n",
       "      <td>150.00</td>\n",
       "      <td>175.000000</td>\n",
       "      <td>440042.875969</td>\n",
       "      <td>M.Sc.(Agri)</td>\n",
       "      <td>6.000000e+05</td>\n",
       "      <td>0.363503</td>\n",
       "    </tr>\n",
       "    <tr>\n",
       "      <th>1</th>\n",
       "      <td>711246</td>\n",
       "      <td>Kurukshetra</td>\n",
       "      <td>1</td>\n",
       "      <td>37</td>\n",
       "      <td>2016-07-26</td>\n",
       "      <td>2016-12-02</td>\n",
       "      <td>0.353425</td>\n",
       "      <td>11</td>\n",
       "      <td>2</td>\n",
       "      <td>138.41</td>\n",
       "      <td>166.367434</td>\n",
       "      <td>665692.400000</td>\n",
       "      <td>B.Sc.(Agri)</td>\n",
       "      <td>7.800000e+05</td>\n",
       "      <td>0.171712</td>\n",
       "    </tr>\n",
       "    <tr>\n",
       "      <th>2</th>\n",
       "      <td>707658</td>\n",
       "      <td>Sirsa</td>\n",
       "      <td>1</td>\n",
       "      <td>44</td>\n",
       "      <td>2014-05-01</td>\n",
       "      <td>2017-05-03</td>\n",
       "      <td>3.008219</td>\n",
       "      <td>9</td>\n",
       "      <td>5</td>\n",
       "      <td>197.19</td>\n",
       "      <td>581.241054</td>\n",
       "      <td>858931.627962</td>\n",
       "      <td>B.Sc.(Agri)</td>\n",
       "      <td>1.065075e+06</td>\n",
       "      <td>0.240000</td>\n",
       "    </tr>\n",
       "  </tbody>\n",
       "</table>\n",
       "</div>"
      ],
      "text/plain": [
       "   Emp No           HQ  State  Age        DOJ Date of Resignation  \\\n",
       "0  709022        Hisar      1   53 2015-05-01          2016-07-20   \n",
       "1  711246  Kurukshetra      1   37 2016-07-26          2016-12-02   \n",
       "2  707658        Sirsa      1   44 2014-05-01          2017-05-03   \n",
       "\n",
       "   Tenure with Tata  Total Experience  Last Rating  SR Target      SR Ach  \\\n",
       "0          1.221918                 1            3     150.00  175.000000   \n",
       "1          0.353425                11            2     138.41  166.367434   \n",
       "2          3.008219                 9            5     197.19  581.241054   \n",
       "\n",
       "   Last CTC Drawn Education Background     New Offer  % Increase  \n",
       "0   440042.875969          M.Sc.(Agri)  6.000000e+05    0.363503  \n",
       "1   665692.400000          B.Sc.(Agri)  7.800000e+05    0.171712  \n",
       "2   858931.627962          B.Sc.(Agri)  1.065075e+06    0.240000  "
      ]
     },
     "execution_count": 5,
     "metadata": {},
     "output_type": "execute_result"
    }
   ],
   "source": [
    "df.head(3)"
   ]
  },
  {
   "cell_type": "code",
   "execution_count": 6,
   "metadata": {},
   "outputs": [
    {
     "data": {
      "text/plain": [
       "(67, 15)"
      ]
     },
     "execution_count": 6,
     "metadata": {},
     "output_type": "execute_result"
    }
   ],
   "source": [
    "# To see the dimension of the dataset wcgs\n",
    "df.shape"
   ]
  },
  {
   "cell_type": "code",
   "execution_count": 7,
   "metadata": {},
   "outputs": [
    {
     "data": {
      "text/plain": [
       "Emp No                           int64\n",
       "HQ                              object\n",
       "State                            int64\n",
       "Age                              int64\n",
       "DOJ                     datetime64[ns]\n",
       "Date of Resignation     datetime64[ns]\n",
       "Tenure with Tata               float64\n",
       "Total Experience                 int64\n",
       "Last Rating                      int64\n",
       "SR Target                      float64\n",
       "SR Ach                         float64\n",
       "Last CTC Drawn                 float64\n",
       "Education Background            object\n",
       "New Offer                      float64\n",
       "% Increase                     float64\n",
       "dtype: object"
      ]
     },
     "execution_count": 7,
     "metadata": {},
     "output_type": "execute_result"
    }
   ],
   "source": [
    "# to see the datatypes of each column\n",
    "df.dtypes"
   ]
  },
  {
   "cell_type": "code",
   "execution_count": 8,
   "metadata": {},
   "outputs": [
    {
     "data": {
      "text/plain": [
       "Index(['Emp No', 'HQ', 'State', 'Age', 'DOJ', 'Date of Resignation',\n",
       "       'Tenure with Tata', 'Total Experience', 'Last Rating', 'SR Target',\n",
       "       'SR Ach', 'Last CTC Drawn', 'Education Background', 'New Offer',\n",
       "       '% Increase'],\n",
       "      dtype='object')"
      ]
     },
     "execution_count": 8,
     "metadata": {},
     "output_type": "execute_result"
    }
   ],
   "source": [
    "df.columns"
   ]
  },
  {
   "cell_type": "code",
   "execution_count": 9,
   "metadata": {},
   "outputs": [
    {
     "data": {
      "text/html": [
       "<div>\n",
       "<style scoped>\n",
       "    .dataframe tbody tr th:only-of-type {\n",
       "        vertical-align: middle;\n",
       "    }\n",
       "\n",
       "    .dataframe tbody tr th {\n",
       "        vertical-align: top;\n",
       "    }\n",
       "\n",
       "    .dataframe thead th {\n",
       "        text-align: right;\n",
       "    }\n",
       "</style>\n",
       "<table border=\"1\" class=\"dataframe\">\n",
       "  <thead>\n",
       "    <tr style=\"text-align: right;\">\n",
       "      <th></th>\n",
       "      <th>Emp No</th>\n",
       "      <th>State</th>\n",
       "      <th>Age</th>\n",
       "      <th>Tenure with Tata</th>\n",
       "      <th>Total Experience</th>\n",
       "      <th>Last Rating</th>\n",
       "      <th>SR Target</th>\n",
       "      <th>SR Ach</th>\n",
       "      <th>Last CTC Drawn</th>\n",
       "      <th>New Offer</th>\n",
       "      <th>% Increase</th>\n",
       "    </tr>\n",
       "  </thead>\n",
       "  <tbody>\n",
       "    <tr>\n",
       "      <th>count</th>\n",
       "      <td>67.000000</td>\n",
       "      <td>67.000000</td>\n",
       "      <td>67.000000</td>\n",
       "      <td>67.000000</td>\n",
       "      <td>67.000000</td>\n",
       "      <td>67.000000</td>\n",
       "      <td>64.000000</td>\n",
       "      <td>64.000000</td>\n",
       "      <td>6.700000e+01</td>\n",
       "      <td>6.700000e+01</td>\n",
       "      <td>67.000000</td>\n",
       "    </tr>\n",
       "    <tr>\n",
       "      <th>mean</th>\n",
       "      <td>699173.880597</td>\n",
       "      <td>3.626866</td>\n",
       "      <td>33.283582</td>\n",
       "      <td>2.455522</td>\n",
       "      <td>4.119403</td>\n",
       "      <td>2.701493</td>\n",
       "      <td>301.702342</td>\n",
       "      <td>314.235984</td>\n",
       "      <td>6.578304e+05</td>\n",
       "      <td>8.377698e+05</td>\n",
       "      <td>0.281653</td>\n",
       "    </tr>\n",
       "    <tr>\n",
       "      <th>std</th>\n",
       "      <td>59578.368759</td>\n",
       "      <td>1.412453</td>\n",
       "      <td>10.689567</td>\n",
       "      <td>2.900094</td>\n",
       "      <td>3.755894</td>\n",
       "      <td>0.778789</td>\n",
       "      <td>504.731269</td>\n",
       "      <td>632.517900</td>\n",
       "      <td>3.677201e+05</td>\n",
       "      <td>4.557929e+05</td>\n",
       "      <td>0.068722</td>\n",
       "    </tr>\n",
       "    <tr>\n",
       "      <th>min</th>\n",
       "      <td>362059.000000</td>\n",
       "      <td>1.000000</td>\n",
       "      <td>23.000000</td>\n",
       "      <td>0.161644</td>\n",
       "      <td>0.000000</td>\n",
       "      <td>1.000000</td>\n",
       "      <td>0.600000</td>\n",
       "      <td>0.230000</td>\n",
       "      <td>3.239353e+05</td>\n",
       "      <td>4.049191e+05</td>\n",
       "      <td>0.171712</td>\n",
       "    </tr>\n",
       "    <tr>\n",
       "      <th>25%</th>\n",
       "      <td>707938.000000</td>\n",
       "      <td>3.000000</td>\n",
       "      <td>26.000000</td>\n",
       "      <td>0.613699</td>\n",
       "      <td>1.000000</td>\n",
       "      <td>2.000000</td>\n",
       "      <td>68.919272</td>\n",
       "      <td>60.513846</td>\n",
       "      <td>4.378281e+05</td>\n",
       "      <td>5.543846e+05</td>\n",
       "      <td>0.245000</td>\n",
       "    </tr>\n",
       "    <tr>\n",
       "      <th>50%</th>\n",
       "      <td>710692.000000</td>\n",
       "      <td>4.000000</td>\n",
       "      <td>29.000000</td>\n",
       "      <td>1.037272</td>\n",
       "      <td>3.000000</td>\n",
       "      <td>3.000000</td>\n",
       "      <td>140.718794</td>\n",
       "      <td>145.806288</td>\n",
       "      <td>5.526580e+05</td>\n",
       "      <td>7.450000e+05</td>\n",
       "      <td>0.250000</td>\n",
       "    </tr>\n",
       "    <tr>\n",
       "      <th>75%</th>\n",
       "      <td>711686.500000</td>\n",
       "      <td>5.000000</td>\n",
       "      <td>36.500000</td>\n",
       "      <td>3.161644</td>\n",
       "      <td>6.500000</td>\n",
       "      <td>3.000000</td>\n",
       "      <td>247.035000</td>\n",
       "      <td>220.937527</td>\n",
       "      <td>7.163101e+05</td>\n",
       "      <td>8.939006e+05</td>\n",
       "      <td>0.297968</td>\n",
       "    </tr>\n",
       "    <tr>\n",
       "      <th>max</th>\n",
       "      <td>713145.000000</td>\n",
       "      <td>5.000000</td>\n",
       "      <td>59.000000</td>\n",
       "      <td>14.175342</td>\n",
       "      <td>18.000000</td>\n",
       "      <td>5.000000</td>\n",
       "      <td>2686.000000</td>\n",
       "      <td>3692.000000</td>\n",
       "      <td>2.396801e+06</td>\n",
       "      <td>2.996001e+06</td>\n",
       "      <td>0.486493</td>\n",
       "    </tr>\n",
       "  </tbody>\n",
       "</table>\n",
       "</div>"
      ],
      "text/plain": [
       "              Emp No      State        Age  Tenure with Tata  \\\n",
       "count      67.000000  67.000000  67.000000         67.000000   \n",
       "mean   699173.880597   3.626866  33.283582          2.455522   \n",
       "std     59578.368759   1.412453  10.689567          2.900094   \n",
       "min    362059.000000   1.000000  23.000000          0.161644   \n",
       "25%    707938.000000   3.000000  26.000000          0.613699   \n",
       "50%    710692.000000   4.000000  29.000000          1.037272   \n",
       "75%    711686.500000   5.000000  36.500000          3.161644   \n",
       "max    713145.000000   5.000000  59.000000         14.175342   \n",
       "\n",
       "       Total Experience  Last Rating    SR Target       SR Ach  \\\n",
       "count         67.000000    67.000000    64.000000    64.000000   \n",
       "mean           4.119403     2.701493   301.702342   314.235984   \n",
       "std            3.755894     0.778789   504.731269   632.517900   \n",
       "min            0.000000     1.000000     0.600000     0.230000   \n",
       "25%            1.000000     2.000000    68.919272    60.513846   \n",
       "50%            3.000000     3.000000   140.718794   145.806288   \n",
       "75%            6.500000     3.000000   247.035000   220.937527   \n",
       "max           18.000000     5.000000  2686.000000  3692.000000   \n",
       "\n",
       "       Last CTC Drawn     New Offer  % Increase  \n",
       "count    6.700000e+01  6.700000e+01   67.000000  \n",
       "mean     6.578304e+05  8.377698e+05    0.281653  \n",
       "std      3.677201e+05  4.557929e+05    0.068722  \n",
       "min      3.239353e+05  4.049191e+05    0.171712  \n",
       "25%      4.378281e+05  5.543846e+05    0.245000  \n",
       "50%      5.526580e+05  7.450000e+05    0.250000  \n",
       "75%      7.163101e+05  8.939006e+05    0.297968  \n",
       "max      2.396801e+06  2.996001e+06    0.486493  "
      ]
     },
     "execution_count": 9,
     "metadata": {},
     "output_type": "execute_result"
    }
   ],
   "source": [
    "# To check the numerical measures of each column\n",
    "df.describe()"
   ]
  },
  {
   "cell_type": "markdown",
   "metadata": {},
   "source": [
    "### Data Cleaning"
   ]
  },
  {
   "cell_type": "code",
   "execution_count": 10,
   "metadata": {},
   "outputs": [
    {
     "name": "stdout",
     "output_type": "stream",
     "text": [
      "<class 'pandas.core.frame.DataFrame'>\n",
      "RangeIndex: 67 entries, 0 to 66\n",
      "Data columns (total 15 columns):\n",
      " #   Column                Non-Null Count  Dtype         \n",
      "---  ------                --------------  -----         \n",
      " 0   Emp No                67 non-null     int64         \n",
      " 1   HQ                    66 non-null     object        \n",
      " 2   State                 67 non-null     int64         \n",
      " 3   Age                   67 non-null     int64         \n",
      " 4   DOJ                   67 non-null     datetime64[ns]\n",
      " 5   Date of Resignation   67 non-null     datetime64[ns]\n",
      " 6   Tenure with Tata      67 non-null     float64       \n",
      " 7   Total Experience      67 non-null     int64         \n",
      " 8   Last Rating           67 non-null     int64         \n",
      " 9   SR Target             64 non-null     float64       \n",
      " 10  SR Ach                64 non-null     float64       \n",
      " 11  Last CTC Drawn        67 non-null     float64       \n",
      " 12  Education Background  67 non-null     object        \n",
      " 13  New Offer             67 non-null     float64       \n",
      " 14  % Increase            67 non-null     float64       \n",
      "dtypes: datetime64[ns](2), float64(6), int64(5), object(2)\n",
      "memory usage: 8.0+ KB\n"
     ]
    }
   ],
   "source": [
    "# To see the details of each column and how many nulls are there in the dataset\n",
    "df.info()"
   ]
  },
  {
   "cell_type": "code",
   "execution_count": 11,
   "metadata": {},
   "outputs": [
    {
     "data": {
      "text/plain": [
       "Emp No                  0\n",
       "HQ                      1\n",
       "State                   0\n",
       "Age                     0\n",
       "DOJ                     0\n",
       "Date of Resignation     0\n",
       "Tenure with Tata        0\n",
       "Total Experience        0\n",
       "Last Rating             0\n",
       "SR Target               3\n",
       "SR Ach                  3\n",
       "Last CTC Drawn          0\n",
       "Education Background    0\n",
       "New Offer               0\n",
       "% Increase              0\n",
       "dtype: int64"
      ]
     },
     "execution_count": 11,
     "metadata": {},
     "output_type": "execute_result"
    }
   ],
   "source": [
    "df.isna().sum()"
   ]
  },
  {
   "cell_type": "code",
   "execution_count": 12,
   "metadata": {},
   "outputs": [
    {
     "data": {
      "text/plain": [
       "0"
      ]
     },
     "execution_count": 12,
     "metadata": {},
     "output_type": "execute_result"
    }
   ],
   "source": [
    "# To check if there if any duplication in rows\n",
    "df.duplicated().sum()"
   ]
  },
  {
   "cell_type": "code",
   "execution_count": 13,
   "metadata": {},
   "outputs": [
    {
     "data": {
      "text/html": [
       "<div>\n",
       "<style scoped>\n",
       "    .dataframe tbody tr th:only-of-type {\n",
       "        vertical-align: middle;\n",
       "    }\n",
       "\n",
       "    .dataframe tbody tr th {\n",
       "        vertical-align: top;\n",
       "    }\n",
       "\n",
       "    .dataframe thead th {\n",
       "        text-align: right;\n",
       "    }\n",
       "</style>\n",
       "<table border=\"1\" class=\"dataframe\">\n",
       "  <thead>\n",
       "    <tr style=\"text-align: right;\">\n",
       "      <th></th>\n",
       "      <th>Emp No</th>\n",
       "      <th>State</th>\n",
       "      <th>Age</th>\n",
       "      <th>Tenure with Tata</th>\n",
       "      <th>Total Experience</th>\n",
       "      <th>Last Rating</th>\n",
       "      <th>SR Target</th>\n",
       "      <th>SR Ach</th>\n",
       "      <th>Last CTC Drawn</th>\n",
       "      <th>New Offer</th>\n",
       "      <th>% Increase</th>\n",
       "    </tr>\n",
       "  </thead>\n",
       "  <tbody>\n",
       "    <tr>\n",
       "      <th>Emp No</th>\n",
       "      <td>1.000000</td>\n",
       "      <td>-0.170483</td>\n",
       "      <td>0.116503</td>\n",
       "      <td>-0.634521</td>\n",
       "      <td>-0.039129</td>\n",
       "      <td>0.036320</td>\n",
       "      <td>-0.606840</td>\n",
       "      <td>-0.609920</td>\n",
       "      <td>-0.313929</td>\n",
       "      <td>-0.311136</td>\n",
       "      <td>0.076925</td>\n",
       "    </tr>\n",
       "    <tr>\n",
       "      <th>State</th>\n",
       "      <td>-0.170483</td>\n",
       "      <td>1.000000</td>\n",
       "      <td>-0.339097</td>\n",
       "      <td>0.055073</td>\n",
       "      <td>-0.054308</td>\n",
       "      <td>-0.144114</td>\n",
       "      <td>0.151726</td>\n",
       "      <td>0.056355</td>\n",
       "      <td>0.142534</td>\n",
       "      <td>0.154817</td>\n",
       "      <td>0.057704</td>\n",
       "    </tr>\n",
       "    <tr>\n",
       "      <th>Age</th>\n",
       "      <td>0.116503</td>\n",
       "      <td>-0.339097</td>\n",
       "      <td>1.000000</td>\n",
       "      <td>0.009706</td>\n",
       "      <td>-0.004630</td>\n",
       "      <td>0.055823</td>\n",
       "      <td>-0.050601</td>\n",
       "      <td>0.031332</td>\n",
       "      <td>-0.128874</td>\n",
       "      <td>-0.119651</td>\n",
       "      <td>0.156592</td>\n",
       "    </tr>\n",
       "    <tr>\n",
       "      <th>Tenure with Tata</th>\n",
       "      <td>-0.634521</td>\n",
       "      <td>0.055073</td>\n",
       "      <td>0.009706</td>\n",
       "      <td>1.000000</td>\n",
       "      <td>0.043876</td>\n",
       "      <td>0.115488</td>\n",
       "      <td>0.584656</td>\n",
       "      <td>0.673088</td>\n",
       "      <td>0.437974</td>\n",
       "      <td>0.444094</td>\n",
       "      <td>-0.014982</td>\n",
       "    </tr>\n",
       "    <tr>\n",
       "      <th>Total Experience</th>\n",
       "      <td>-0.039129</td>\n",
       "      <td>-0.054308</td>\n",
       "      <td>-0.004630</td>\n",
       "      <td>0.043876</td>\n",
       "      <td>1.000000</td>\n",
       "      <td>-0.080869</td>\n",
       "      <td>0.346003</td>\n",
       "      <td>0.326006</td>\n",
       "      <td>0.496322</td>\n",
       "      <td>0.483799</td>\n",
       "      <td>-0.229503</td>\n",
       "    </tr>\n",
       "    <tr>\n",
       "      <th>Last Rating</th>\n",
       "      <td>0.036320</td>\n",
       "      <td>-0.144114</td>\n",
       "      <td>0.055823</td>\n",
       "      <td>0.115488</td>\n",
       "      <td>-0.080869</td>\n",
       "      <td>1.000000</td>\n",
       "      <td>-0.015320</td>\n",
       "      <td>0.008386</td>\n",
       "      <td>-0.084895</td>\n",
       "      <td>-0.087377</td>\n",
       "      <td>-0.060234</td>\n",
       "    </tr>\n",
       "    <tr>\n",
       "      <th>SR Target</th>\n",
       "      <td>-0.606840</td>\n",
       "      <td>0.151726</td>\n",
       "      <td>-0.050601</td>\n",
       "      <td>0.584656</td>\n",
       "      <td>0.346003</td>\n",
       "      <td>-0.015320</td>\n",
       "      <td>1.000000</td>\n",
       "      <td>0.934608</td>\n",
       "      <td>0.741488</td>\n",
       "      <td>0.744291</td>\n",
       "      <td>-0.131137</td>\n",
       "    </tr>\n",
       "    <tr>\n",
       "      <th>SR Ach</th>\n",
       "      <td>-0.609920</td>\n",
       "      <td>0.056355</td>\n",
       "      <td>0.031332</td>\n",
       "      <td>0.673088</td>\n",
       "      <td>0.326006</td>\n",
       "      <td>0.008386</td>\n",
       "      <td>0.934608</td>\n",
       "      <td>1.000000</td>\n",
       "      <td>0.758381</td>\n",
       "      <td>0.756798</td>\n",
       "      <td>-0.129288</td>\n",
       "    </tr>\n",
       "    <tr>\n",
       "      <th>Last CTC Drawn</th>\n",
       "      <td>-0.313929</td>\n",
       "      <td>0.142534</td>\n",
       "      <td>-0.128874</td>\n",
       "      <td>0.437974</td>\n",
       "      <td>0.496322</td>\n",
       "      <td>-0.084895</td>\n",
       "      <td>0.741488</td>\n",
       "      <td>0.758381</td>\n",
       "      <td>1.000000</td>\n",
       "      <td>0.996637</td>\n",
       "      <td>-0.214524</td>\n",
       "    </tr>\n",
       "    <tr>\n",
       "      <th>New Offer</th>\n",
       "      <td>-0.311136</td>\n",
       "      <td>0.154817</td>\n",
       "      <td>-0.119651</td>\n",
       "      <td>0.444094</td>\n",
       "      <td>0.483799</td>\n",
       "      <td>-0.087377</td>\n",
       "      <td>0.744291</td>\n",
       "      <td>0.756798</td>\n",
       "      <td>0.996637</td>\n",
       "      <td>1.000000</td>\n",
       "      <td>-0.138894</td>\n",
       "    </tr>\n",
       "    <tr>\n",
       "      <th>% Increase</th>\n",
       "      <td>0.076925</td>\n",
       "      <td>0.057704</td>\n",
       "      <td>0.156592</td>\n",
       "      <td>-0.014982</td>\n",
       "      <td>-0.229503</td>\n",
       "      <td>-0.060234</td>\n",
       "      <td>-0.131137</td>\n",
       "      <td>-0.129288</td>\n",
       "      <td>-0.214524</td>\n",
       "      <td>-0.138894</td>\n",
       "      <td>1.000000</td>\n",
       "    </tr>\n",
       "  </tbody>\n",
       "</table>\n",
       "</div>"
      ],
      "text/plain": [
       "                    Emp No     State       Age  Tenure with Tata  \\\n",
       "Emp No            1.000000 -0.170483  0.116503         -0.634521   \n",
       "State            -0.170483  1.000000 -0.339097          0.055073   \n",
       "Age               0.116503 -0.339097  1.000000          0.009706   \n",
       "Tenure with Tata -0.634521  0.055073  0.009706          1.000000   \n",
       "Total Experience -0.039129 -0.054308 -0.004630          0.043876   \n",
       "Last Rating       0.036320 -0.144114  0.055823          0.115488   \n",
       "SR Target        -0.606840  0.151726 -0.050601          0.584656   \n",
       "SR Ach           -0.609920  0.056355  0.031332          0.673088   \n",
       "Last CTC Drawn   -0.313929  0.142534 -0.128874          0.437974   \n",
       "New Offer        -0.311136  0.154817 -0.119651          0.444094   \n",
       "% Increase        0.076925  0.057704  0.156592         -0.014982   \n",
       "\n",
       "                  Total Experience  Last Rating  SR Target    SR Ach  \\\n",
       "Emp No                   -0.039129     0.036320  -0.606840 -0.609920   \n",
       "State                    -0.054308    -0.144114   0.151726  0.056355   \n",
       "Age                      -0.004630     0.055823  -0.050601  0.031332   \n",
       "Tenure with Tata          0.043876     0.115488   0.584656  0.673088   \n",
       "Total Experience          1.000000    -0.080869   0.346003  0.326006   \n",
       "Last Rating              -0.080869     1.000000  -0.015320  0.008386   \n",
       "SR Target                 0.346003    -0.015320   1.000000  0.934608   \n",
       "SR Ach                    0.326006     0.008386   0.934608  1.000000   \n",
       "Last CTC Drawn            0.496322    -0.084895   0.741488  0.758381   \n",
       "New Offer                 0.483799    -0.087377   0.744291  0.756798   \n",
       "% Increase               -0.229503    -0.060234  -0.131137 -0.129288   \n",
       "\n",
       "                  Last CTC Drawn  New Offer  % Increase  \n",
       "Emp No                 -0.313929  -0.311136    0.076925  \n",
       "State                   0.142534   0.154817    0.057704  \n",
       "Age                    -0.128874  -0.119651    0.156592  \n",
       "Tenure with Tata        0.437974   0.444094   -0.014982  \n",
       "Total Experience        0.496322   0.483799   -0.229503  \n",
       "Last Rating            -0.084895  -0.087377   -0.060234  \n",
       "SR Target               0.741488   0.744291   -0.131137  \n",
       "SR Ach                  0.758381   0.756798   -0.129288  \n",
       "Last CTC Drawn          1.000000   0.996637   -0.214524  \n",
       "New Offer               0.996637   1.000000   -0.138894  \n",
       "% Increase             -0.214524  -0.138894    1.000000  "
      ]
     },
     "execution_count": 13,
     "metadata": {},
     "output_type": "execute_result"
    }
   ],
   "source": [
    "# To check the relevant columns\n",
    "df.corr()"
   ]
  },
  {
   "cell_type": "code",
   "execution_count": 14,
   "metadata": {},
   "outputs": [
    {
     "data": {
      "image/png": "[encoded data removed]",
      "text/plain": [
       "<Figure size 1008x432 with 2 Axes>"
      ]
     },
     "metadata": {
      "needs_background": "light"
     },
     "output_type": "display_data"
    }
   ],
   "source": [
    "corr= df.corr()\n",
    "plt.figure(figsize=[14,6])\n",
    "sns.heatmap(corr, xticklabels= corr.columns, yticklabels= corr.columns)\n",
    "plt.show()"
   ]
  },
  {
   "cell_type": "markdown",
   "metadata": {},
   "source": [
    "### Taking Age as Variable"
   ]
  },
  {
   "cell_type": "code",
   "execution_count": 15,
   "metadata": {},
   "outputs": [],
   "source": [
    "maxage = df.Age.max()\n",
    "minage = df.Age.min()\n",
    "rangeage= maxage - minage\n",
    "avgage= df.Age.mean()\n",
    "medianage= df.Age.median()\n",
    "modeage= df.Age.mode().tolist()\n",
    "sdage= df.Age.std()\n",
    "skewage= df.Age.skew()"
   ]
  },
  {
   "cell_type": "code",
   "execution_count": 16,
   "metadata": {},
   "outputs": [
    {
     "name": "stdout",
     "output_type": "stream",
     "text": [
      "max of age  59\n",
      "min of age  23\n",
      "range of age  36\n",
      "average of age  33.28\n",
      "median of age  29.0\n",
      "mode of age  [24, 28]\n",
      "standard deviation of age  10.69\n",
      "skewness of age  1.201\n"
     ]
    }
   ],
   "source": [
    "print('max of age ',maxage)\n",
    "print('min of age ',minage)\n",
    "print('range of age ',rangeage)\n",
    "print('average of age ', round(avgage, 2))\n",
    "print('median of age ',medianage)\n",
    "print('mode of age ',modeage)\n",
    "print('standard deviation of age ',round(sdage, 3))\n",
    "print('skewness of age ',round(skewage, 3))"
   ]
  },
  {
   "cell_type": "code",
   "execution_count": 17,
   "metadata": {},
   "outputs": [],
   "source": [
    "def create_bins(lower_bound, width, quantity):\n",
    "    bins = []\n",
    "    for low in range(lower_bound, \n",
    "                     lower_bound + quantity*width + 1, width):\n",
    "        bins.append((low, low+width))\n",
    "    return bins"
   ]
  },
  {
   "cell_type": "code",
   "execution_count": 18,
   "metadata": {},
   "outputs": [
    {
     "data": {
      "text/plain": [
       "[(21, 26),\n",
       " (26, 31),\n",
       " (31, 36),\n",
       " (36, 41),\n",
       " (41, 46),\n",
       " (46, 51),\n",
       " (51, 56),\n",
       " (56, 61)]"
      ]
     },
     "execution_count": 18,
     "metadata": {},
     "output_type": "execute_result"
    }
   ],
   "source": [
    "bins1 = create_bins(lower_bound=21,\n",
    "                   width=5,\n",
    "                   quantity=7)\n",
    "\n",
    "bins1"
   ]
  },
  {
   "cell_type": "code",
   "execution_count": 19,
   "metadata": {},
   "outputs": [],
   "source": [
    "bins2 = pd.IntervalIndex.from_tuples(bins1)"
   ]
  },
  {
   "cell_type": "code",
   "execution_count": 20,
   "metadata": {},
   "outputs": [
    {
     "name": "stdout",
     "output_type": "stream",
     "text": [
      "0     (51, 56]\n",
      "1     (36, 41]\n",
      "2     (41, 46]\n",
      "3     (56, 61]\n",
      "4     (56, 61]\n",
      "        ...   \n",
      "62    (26, 31]\n",
      "63    (21, 26]\n",
      "64    (21, 26]\n",
      "65    (26, 31]\n",
      "66    (21, 26]\n",
      "Name: Age, Length: 67, dtype: category\n",
      "Categories (8, interval[int64, right]): [(21, 26] < (26, 31] < (31, 36] < (36, 41] < (41, 46] < (46, 51] < (51, 56] < (56, 61]]\n"
     ]
    }
   ],
   "source": [
    "categorical_age = pd.cut(df.Age, bins2)\n",
    "print(categorical_age)"
   ]
  },
  {
   "cell_type": "code",
   "execution_count": 21,
   "metadata": {},
   "outputs": [
    {
     "data": {
      "text/plain": [
       "<AxesSubplot:xlabel='Age', ylabel='count'>"
      ]
     },
     "execution_count": 21,
     "metadata": {},
     "output_type": "execute_result"
    },
    {
     "data": {
      "image/png": "[encoded data removed]",
      "text/plain": [
       "<Figure size 432x288 with 1 Axes>"
      ]
     },
     "metadata": {
      "needs_background": "light"
     },
     "output_type": "display_data"
    }
   ],
   "source": [
    "sns.countplot(x=categorical_age)"
   ]
  },
  {
   "cell_type": "code",
   "execution_count": 22,
   "metadata": {},
   "outputs": [
    {
     "data": {
      "image/png": "[encoded data removed]",
      "text/plain": [
       "<Figure size 1152x360 with 1 Axes>"
      ]
     },
     "metadata": {
      "needs_background": "light"
     },
     "output_type": "display_data"
    }
   ],
   "source": [
    "plt.figure(figsize=[16,5])\n",
    "plt.hist(df['Age'], bins=8)\n",
    "plt.xlabel('Age')\n",
    "plt.ylabel('Frequency')\n",
    "plt.show()"
   ]
  },
  {
   "cell_type": "code",
   "execution_count": 23,
   "metadata": {},
   "outputs": [
    {
     "data": {
      "image/png": "[encoded data removed]",
      "text/plain": [
       "<Figure size 1152x360 with 1 Axes>"
      ]
     },
     "metadata": {
      "needs_background": "light"
     },
     "output_type": "display_data"
    }
   ],
   "source": [
    "plt.figure(figsize=[16,5])\n",
    "sns.boxplot(\n",
    "    data=df, x=\"Age\",    notch=True, showcaps=False,    flierprops={\"marker\": \"x\"},\n",
    "    boxprops={\"facecolor\": (.4, .6, .8, .5)},    medianprops={\"color\": \"coral\"})\n",
    "plt.ylabel('Age of leaving employees')\n",
    "plt.show()"
   ]
  },
  {
   "cell_type": "code",
   "execution_count": 24,
   "metadata": {},
   "outputs": [],
   "source": [
    "## Creating a dummy variable for individuals below 35 years of age\n",
    "\n",
    "def get_categories(x):\n",
    "    if x<36:\n",
    "        return 1\n",
    "    else:\n",
    "        return 0\n",
    "    \n",
    "df['is_young_emp'] = df['Age'].apply(get_categories)"
   ]
  },
  {
   "cell_type": "code",
   "execution_count": 25,
   "metadata": {},
   "outputs": [
    {
     "data": {
      "text/html": [
       "<div>\n",
       "<style scoped>\n",
       "    .dataframe tbody tr th:only-of-type {\n",
       "        vertical-align: middle;\n",
       "    }\n",
       "\n",
       "    .dataframe tbody tr th {\n",
       "        vertical-align: top;\n",
       "    }\n",
       "\n",
       "    .dataframe thead th {\n",
       "        text-align: right;\n",
       "    }\n",
       "</style>\n",
       "<table border=\"1\" class=\"dataframe\">\n",
       "  <thead>\n",
       "    <tr style=\"text-align: right;\">\n",
       "      <th></th>\n",
       "      <th>Emp No</th>\n",
       "      <th>HQ</th>\n",
       "      <th>State</th>\n",
       "      <th>Age</th>\n",
       "      <th>DOJ</th>\n",
       "      <th>Date of Resignation</th>\n",
       "      <th>Tenure with Tata</th>\n",
       "      <th>Total Experience</th>\n",
       "      <th>Last Rating</th>\n",
       "      <th>SR Target</th>\n",
       "      <th>SR Ach</th>\n",
       "      <th>Last CTC Drawn</th>\n",
       "      <th>Education Background</th>\n",
       "      <th>New Offer</th>\n",
       "      <th>% Increase</th>\n",
       "      <th>is_young_emp</th>\n",
       "    </tr>\n",
       "  </thead>\n",
       "  <tbody>\n",
       "    <tr>\n",
       "      <th>0</th>\n",
       "      <td>709022</td>\n",
       "      <td>Hisar</td>\n",
       "      <td>1</td>\n",
       "      <td>53</td>\n",
       "      <td>2015-05-01</td>\n",
       "      <td>2016-07-20</td>\n",
       "      <td>1.221918</td>\n",
       "      <td>1</td>\n",
       "      <td>3</td>\n",
       "      <td>150.00</td>\n",
       "      <td>175.000000</td>\n",
       "      <td>440042.875969</td>\n",
       "      <td>M.Sc.(Agri)</td>\n",
       "      <td>6.000000e+05</td>\n",
       "      <td>0.363503</td>\n",
       "      <td>0</td>\n",
       "    </tr>\n",
       "    <tr>\n",
       "      <th>1</th>\n",
       "      <td>711246</td>\n",
       "      <td>Kurukshetra</td>\n",
       "      <td>1</td>\n",
       "      <td>37</td>\n",
       "      <td>2016-07-26</td>\n",
       "      <td>2016-12-02</td>\n",
       "      <td>0.353425</td>\n",
       "      <td>11</td>\n",
       "      <td>2</td>\n",
       "      <td>138.41</td>\n",
       "      <td>166.367434</td>\n",
       "      <td>665692.400000</td>\n",
       "      <td>B.Sc.(Agri)</td>\n",
       "      <td>7.800000e+05</td>\n",
       "      <td>0.171712</td>\n",
       "      <td>0</td>\n",
       "    </tr>\n",
       "    <tr>\n",
       "      <th>2</th>\n",
       "      <td>707658</td>\n",
       "      <td>Sirsa</td>\n",
       "      <td>1</td>\n",
       "      <td>44</td>\n",
       "      <td>2014-05-01</td>\n",
       "      <td>2017-05-03</td>\n",
       "      <td>3.008219</td>\n",
       "      <td>9</td>\n",
       "      <td>5</td>\n",
       "      <td>197.19</td>\n",
       "      <td>581.241054</td>\n",
       "      <td>858931.627962</td>\n",
       "      <td>B.Sc.(Agri)</td>\n",
       "      <td>1.065075e+06</td>\n",
       "      <td>0.240000</td>\n",
       "      <td>0</td>\n",
       "    </tr>\n",
       "  </tbody>\n",
       "</table>\n",
       "</div>"
      ],
      "text/plain": [
       "   Emp No           HQ  State  Age        DOJ Date of Resignation  \\\n",
       "0  709022        Hisar      1   53 2015-05-01          2016-07-20   \n",
       "1  711246  Kurukshetra      1   37 2016-07-26          2016-12-02   \n",
       "2  707658        Sirsa      1   44 2014-05-01          2017-05-03   \n",
       "\n",
       "   Tenure with Tata  Total Experience  Last Rating  SR Target      SR Ach  \\\n",
       "0          1.221918                 1            3     150.00  175.000000   \n",
       "1          0.353425                11            2     138.41  166.367434   \n",
       "2          3.008219                 9            5     197.19  581.241054   \n",
       "\n",
       "   Last CTC Drawn Education Background     New Offer  % Increase  is_young_emp  \n",
       "0   440042.875969          M.Sc.(Agri)  6.000000e+05    0.363503             0  \n",
       "1   665692.400000          B.Sc.(Agri)  7.800000e+05    0.171712             0  \n",
       "2   858931.627962          B.Sc.(Agri)  1.065075e+06    0.240000             0  "
      ]
     },
     "execution_count": 25,
     "metadata": {},
     "output_type": "execute_result"
    }
   ],
   "source": [
    "df.head(3)"
   ]
  },
  {
   "cell_type": "markdown",
   "metadata": {},
   "source": [
    "### Taking Tenure with Tata as Variable"
   ]
  },
  {
   "cell_type": "code",
   "execution_count": 26,
   "metadata": {},
   "outputs": [
    {
     "data": {
      "image/png": "[encoded data removed]",
      "text/plain": [
       "<Figure size 1152x360 with 1 Axes>"
      ]
     },
     "metadata": {
      "needs_background": "light"
     },
     "output_type": "display_data"
    }
   ],
   "source": [
    "plt.figure(figsize=[16,5])\n",
    "plt.hist(df['Tenure with Tata'], bins=8, color='green')\n",
    "plt.title('Tenure Distribution')\n",
    "plt.xlabel('Tenure with Tata')\n",
    "plt.ylabel('Frequency')\n",
    "plt.show()"
   ]
  },
  {
   "cell_type": "code",
   "execution_count": 27,
   "metadata": {},
   "outputs": [
    {
     "data": {
      "image/png": "[encoded data removed]",
      "text/plain": [
       "<Figure size 1152x360 with 1 Axes>"
      ]
     },
     "metadata": {
      "needs_background": "light"
     },
     "output_type": "display_data"
    }
   ],
   "source": [
    "plt.figure(figsize=[16,5])\n",
    "sns.boxplot(\n",
    "    data=df, x=\"Tenure with Tata\",    notch=True, showcaps=False,    flierprops={\"marker\": \"o\"},\n",
    "    boxprops={\"facecolor\": (.4, .6, .8, .5)},    medianprops={\"color\": \"coral\"})\n",
    "plt.ylabel('Tenure with Tata for leaving employees')\n",
    "plt.show()"
   ]
  },
  {
   "cell_type": "code",
   "execution_count": 28,
   "metadata": {},
   "outputs": [],
   "source": [
    "def get_tenure_category(x):\n",
    "    if x <= 3 :\n",
    "        return 1\n",
    "    else :\n",
    "        return 0\n",
    "    \n",
    "df['is_tenure<4'] = df['Tenure with Tata'].apply(get_tenure_category)"
   ]
  },
  {
   "cell_type": "code",
   "execution_count": 29,
   "metadata": {},
   "outputs": [],
   "source": [
    "df.rename(columns = {'is_tenure<4':'is_tenure<=3'}, inplace = True)"
   ]
  },
  {
   "cell_type": "markdown",
   "metadata": {},
   "source": [
    "### Taking Total Experience as Variable"
   ]
  },
  {
   "cell_type": "code",
   "execution_count": 30,
   "metadata": {},
   "outputs": [
    {
     "data": {
      "image/png": "[encoded data removed]",
      "text/plain": [
       "<Figure size 1152x360 with 1 Axes>"
      ]
     },
     "metadata": {
      "needs_background": "light"
     },
     "output_type": "display_data"
    }
   ],
   "source": [
    "plt.figure(figsize=[16,5])\n",
    "plt.hist(df['Total Experience'], bins=8, color='brown')\n",
    "plt.title('Total Work Experience Distribution')\n",
    "plt.xlabel('Total Experience')\n",
    "plt.ylabel('Frequency')\n",
    "plt.show()"
   ]
  },
  {
   "cell_type": "code",
   "execution_count": 31,
   "metadata": {},
   "outputs": [
    {
     "data": {
      "image/png": "[encoded data removed]",
      "text/plain": [
       "<Figure size 1152x360 with 1 Axes>"
      ]
     },
     "metadata": {
      "needs_background": "light"
     },
     "output_type": "display_data"
    }
   ],
   "source": [
    "plt.figure(figsize=[16,5])\n",
    "sns.boxplot(\n",
    "    data=df, x=\"Total Experience\",    notch=True, showcaps=False,    flierprops={\"marker\": \"v\"},\n",
    "    boxprops={\"facecolor\": (.4, .6, .8, .5)},    medianprops={\"color\": \"coral\"})\n",
    "plt.ylabel('Total Experience for leaving employees')\n",
    "plt.show()"
   ]
  },
  {
   "cell_type": "code",
   "execution_count": 32,
   "metadata": {},
   "outputs": [],
   "source": [
    "def get_exp_category(x):\n",
    "    if x <= 5 :\n",
    "        return 1\n",
    "    else :\n",
    "        return 0\n",
    "    \n",
    "df['is_exp<=5'] = df['Total Experience'].apply(get_tenure_category)"
   ]
  },
  {
   "cell_type": "code",
   "execution_count": 33,
   "metadata": {},
   "outputs": [
    {
     "data": {
      "text/html": [
       "<div>\n",
       "<style scoped>\n",
       "    .dataframe tbody tr th:only-of-type {\n",
       "        vertical-align: middle;\n",
       "    }\n",
       "\n",
       "    .dataframe tbody tr th {\n",
       "        vertical-align: top;\n",
       "    }\n",
       "\n",
       "    .dataframe thead th {\n",
       "        text-align: right;\n",
       "    }\n",
       "</style>\n",
       "<table border=\"1\" class=\"dataframe\">\n",
       "  <thead>\n",
       "    <tr style=\"text-align: right;\">\n",
       "      <th></th>\n",
       "      <th>Emp No</th>\n",
       "      <th>HQ</th>\n",
       "      <th>State</th>\n",
       "      <th>Age</th>\n",
       "      <th>DOJ</th>\n",
       "      <th>Date of Resignation</th>\n",
       "      <th>Tenure with Tata</th>\n",
       "      <th>Total Experience</th>\n",
       "      <th>Last Rating</th>\n",
       "      <th>SR Target</th>\n",
       "      <th>SR Ach</th>\n",
       "      <th>Last CTC Drawn</th>\n",
       "      <th>Education Background</th>\n",
       "      <th>New Offer</th>\n",
       "      <th>% Increase</th>\n",
       "      <th>is_young_emp</th>\n",
       "      <th>is_tenure&lt;=3</th>\n",
       "      <th>is_exp&lt;=5</th>\n",
       "    </tr>\n",
       "  </thead>\n",
       "  <tbody>\n",
       "    <tr>\n",
       "      <th>0</th>\n",
       "      <td>709022</td>\n",
       "      <td>Hisar</td>\n",
       "      <td>1</td>\n",
       "      <td>53</td>\n",
       "      <td>2015-05-01</td>\n",
       "      <td>2016-07-20</td>\n",
       "      <td>1.221918</td>\n",
       "      <td>1</td>\n",
       "      <td>3</td>\n",
       "      <td>150.00</td>\n",
       "      <td>175.000000</td>\n",
       "      <td>440042.875969</td>\n",
       "      <td>M.Sc.(Agri)</td>\n",
       "      <td>6.000000e+05</td>\n",
       "      <td>0.363503</td>\n",
       "      <td>0</td>\n",
       "      <td>1</td>\n",
       "      <td>1</td>\n",
       "    </tr>\n",
       "    <tr>\n",
       "      <th>1</th>\n",
       "      <td>711246</td>\n",
       "      <td>Kurukshetra</td>\n",
       "      <td>1</td>\n",
       "      <td>37</td>\n",
       "      <td>2016-07-26</td>\n",
       "      <td>2016-12-02</td>\n",
       "      <td>0.353425</td>\n",
       "      <td>11</td>\n",
       "      <td>2</td>\n",
       "      <td>138.41</td>\n",
       "      <td>166.367434</td>\n",
       "      <td>665692.400000</td>\n",
       "      <td>B.Sc.(Agri)</td>\n",
       "      <td>7.800000e+05</td>\n",
       "      <td>0.171712</td>\n",
       "      <td>0</td>\n",
       "      <td>1</td>\n",
       "      <td>0</td>\n",
       "    </tr>\n",
       "    <tr>\n",
       "      <th>2</th>\n",
       "      <td>707658</td>\n",
       "      <td>Sirsa</td>\n",
       "      <td>1</td>\n",
       "      <td>44</td>\n",
       "      <td>2014-05-01</td>\n",
       "      <td>2017-05-03</td>\n",
       "      <td>3.008219</td>\n",
       "      <td>9</td>\n",
       "      <td>5</td>\n",
       "      <td>197.19</td>\n",
       "      <td>581.241054</td>\n",
       "      <td>858931.627962</td>\n",
       "      <td>B.Sc.(Agri)</td>\n",
       "      <td>1.065075e+06</td>\n",
       "      <td>0.240000</td>\n",
       "      <td>0</td>\n",
       "      <td>0</td>\n",
       "      <td>0</td>\n",
       "    </tr>\n",
       "  </tbody>\n",
       "</table>\n",
       "</div>"
      ],
      "text/plain": [
       "   Emp No           HQ  State  Age        DOJ Date of Resignation  \\\n",
       "0  709022        Hisar      1   53 2015-05-01          2016-07-20   \n",
       "1  711246  Kurukshetra      1   37 2016-07-26          2016-12-02   \n",
       "2  707658        Sirsa      1   44 2014-05-01          2017-05-03   \n",
       "\n",
       "   Tenure with Tata  Total Experience  Last Rating  SR Target      SR Ach  \\\n",
       "0          1.221918                 1            3     150.00  175.000000   \n",
       "1          0.353425                11            2     138.41  166.367434   \n",
       "2          3.008219                 9            5     197.19  581.241054   \n",
       "\n",
       "   Last CTC Drawn Education Background     New Offer  % Increase  \\\n",
       "0   440042.875969          M.Sc.(Agri)  6.000000e+05    0.363503   \n",
       "1   665692.400000          B.Sc.(Agri)  7.800000e+05    0.171712   \n",
       "2   858931.627962          B.Sc.(Agri)  1.065075e+06    0.240000   \n",
       "\n",
       "   is_young_emp  is_tenure<=3  is_exp<=5  \n",
       "0             0             1          1  \n",
       "1             0             1          0  \n",
       "2             0             0          0  "
      ]
     },
     "execution_count": 33,
     "metadata": {},
     "output_type": "execute_result"
    }
   ],
   "source": [
    "df.head(3)"
   ]
  },
  {
   "cell_type": "markdown",
   "metadata": {},
   "source": [
    "### Taking Last Rating as Variable"
   ]
  },
  {
   "cell_type": "code",
   "execution_count": 34,
   "metadata": {},
   "outputs": [
    {
     "data": {
      "image/png": "[encoded data removed]",
      "text/plain": [
       "<Figure size 1152x360 with 1 Axes>"
      ]
     },
     "metadata": {
      "needs_background": "light"
     },
     "output_type": "display_data"
    }
   ],
   "source": [
    "plt.figure(figsize=[16,5])\n",
    "plt.hist(df['Last Rating'], bins=4, color='purple')\n",
    "plt.title('Last Rating Distribution')\n",
    "plt.xlabel('Last Rating')\n",
    "plt.ylabel('Frequency')\n",
    "plt.show()"
   ]
  },
  {
   "cell_type": "code",
   "execution_count": 35,
   "metadata": {},
   "outputs": [
    {
     "data": {
      "image/png": "[encoded data removed]",
      "text/plain": [
       "<Figure size 1152x360 with 1 Axes>"
      ]
     },
     "metadata": {
      "needs_background": "light"
     },
     "output_type": "display_data"
    }
   ],
   "source": [
    "plt.figure(figsize=[16,5])\n",
    "sns.boxplot(\n",
    "    data=df, x=\"Last Rating\",    notch=True, showcaps=False,    flierprops={\"marker\": \"v\"},\n",
    "    boxprops={\"facecolor\": (.4, .6, .8, .5)},    medianprops={\"color\": \"coral\"})\n",
    "plt.ylabel('Last Rating for leaving employees')\n",
    "plt.show()"
   ]
  },
  {
   "cell_type": "code",
   "execution_count": 36,
   "metadata": {},
   "outputs": [],
   "source": [
    "def get_rating_category(x):\n",
    "    if x == 2 or x ==3:\n",
    "        return 1\n",
    "    else:\n",
    "        return 0\n",
    "    \n",
    "df['israting_bad'] =  df['Last Rating'].apply(get_rating_category)"
   ]
  },
  {
   "cell_type": "markdown",
   "metadata": {},
   "source": [
    "### Taking Education Background as Variable"
   ]
  },
  {
   "cell_type": "code",
   "execution_count": 37,
   "metadata": {},
   "outputs": [],
   "source": [
    "## Cleaning the education background column by dividing it to clear categories of PH.D M.Sc MBA and BA/B.Sc\n",
    "\n",
    "def get_edu_categories(edu):\n",
    "\n",
    "    if edu.__contains__('PH.D'):\n",
    "        return 'PH.D'\n",
    "    elif edu.__contains__('M.Sc'):\n",
    "        return 'M.Sc'\n",
    "    elif edu.__contains__('MBA') or edu.__contains__('PGDABPM'):\n",
    "        return 'MBA/PGDABPM'\n",
    "    else : \n",
    "        return \"BA/BSc\"\n",
    "    \n",
    "df['Edu_category']= df['Education Background'].apply(get_edu_categories)"
   ]
  },
  {
   "cell_type": "code",
   "execution_count": 38,
   "metadata": {},
   "outputs": [
    {
     "name": "stderr",
     "output_type": "stream",
     "text": [
      "/opt/conda/lib/python3.9/site-packages/seaborn/_decorators.py:36: FutureWarning: Pass the following variable as a keyword arg: x. From version 0.12, the only valid positional argument will be `data`, and passing other arguments without an explicit keyword will result in an error or misinterpretation.\n",
      "  warnings.warn(\n"
     ]
    },
    {
     "data": {
      "image/png": "[encoded data removed]",
      "text/plain": [
       "<Figure size 1152x288 with 1 Axes>"
      ]
     },
     "metadata": {
      "needs_background": "light"
     },
     "output_type": "display_data"
    }
   ],
   "source": [
    "plt.figure(figsize=[16,4])\n",
    "sns.countplot(df['Edu_category'])\n",
    "plt.show()"
   ]
  },
  {
   "cell_type": "code",
   "execution_count": 39,
   "metadata": {},
   "outputs": [
    {
     "data": {
      "image/png": "[encoded data removed]",
      "text/plain": [
       "<Figure size 1152x360 with 1 Axes>"
      ]
     },
     "metadata": {
      "needs_background": "light"
     },
     "output_type": "display_data"
    }
   ],
   "source": [
    "plt.figure(figsize=[16,5])\n",
    "plt.hist(df['Edu_category'], bins=4, color='green')\n",
    "plt.title('Education category Distribution')\n",
    "plt.xlabel('Education category')\n",
    "plt.ylabel('Frequency')\n",
    "plt.show()"
   ]
  },
  {
   "cell_type": "code",
   "execution_count": 40,
   "metadata": {},
   "outputs": [
    {
     "data": {
      "text/html": [
       "<div>\n",
       "<style scoped>\n",
       "    .dataframe tbody tr th:only-of-type {\n",
       "        vertical-align: middle;\n",
       "    }\n",
       "\n",
       "    .dataframe tbody tr th {\n",
       "        vertical-align: top;\n",
       "    }\n",
       "\n",
       "    .dataframe thead th {\n",
       "        text-align: right;\n",
       "    }\n",
       "</style>\n",
       "<table border=\"1\" class=\"dataframe\">\n",
       "  <thead>\n",
       "    <tr style=\"text-align: right;\">\n",
       "      <th></th>\n",
       "      <th>Emp No</th>\n",
       "      <th>HQ</th>\n",
       "      <th>State</th>\n",
       "      <th>Age</th>\n",
       "      <th>DOJ</th>\n",
       "      <th>Date of Resignation</th>\n",
       "      <th>Tenure with Tata</th>\n",
       "      <th>Total Experience</th>\n",
       "      <th>Last Rating</th>\n",
       "      <th>SR Target</th>\n",
       "      <th>SR Ach</th>\n",
       "      <th>Last CTC Drawn</th>\n",
       "      <th>Education Background</th>\n",
       "      <th>New Offer</th>\n",
       "      <th>% Increase</th>\n",
       "      <th>is_young_emp</th>\n",
       "      <th>is_tenure&lt;=3</th>\n",
       "      <th>is_exp&lt;=5</th>\n",
       "      <th>israting_bad</th>\n",
       "      <th>Edu_category</th>\n",
       "    </tr>\n",
       "  </thead>\n",
       "  <tbody>\n",
       "    <tr>\n",
       "      <th>0</th>\n",
       "      <td>709022</td>\n",
       "      <td>Hisar</td>\n",
       "      <td>1</td>\n",
       "      <td>53</td>\n",
       "      <td>2015-05-01</td>\n",
       "      <td>2016-07-20</td>\n",
       "      <td>1.221918</td>\n",
       "      <td>1</td>\n",
       "      <td>3</td>\n",
       "      <td>150.00</td>\n",
       "      <td>175.000000</td>\n",
       "      <td>440042.875969</td>\n",
       "      <td>M.Sc.(Agri)</td>\n",
       "      <td>6.000000e+05</td>\n",
       "      <td>0.363503</td>\n",
       "      <td>0</td>\n",
       "      <td>1</td>\n",
       "      <td>1</td>\n",
       "      <td>1</td>\n",
       "      <td>M.Sc</td>\n",
       "    </tr>\n",
       "    <tr>\n",
       "      <th>1</th>\n",
       "      <td>711246</td>\n",
       "      <td>Kurukshetra</td>\n",
       "      <td>1</td>\n",
       "      <td>37</td>\n",
       "      <td>2016-07-26</td>\n",
       "      <td>2016-12-02</td>\n",
       "      <td>0.353425</td>\n",
       "      <td>11</td>\n",
       "      <td>2</td>\n",
       "      <td>138.41</td>\n",
       "      <td>166.367434</td>\n",
       "      <td>665692.400000</td>\n",
       "      <td>B.Sc.(Agri)</td>\n",
       "      <td>7.800000e+05</td>\n",
       "      <td>0.171712</td>\n",
       "      <td>0</td>\n",
       "      <td>1</td>\n",
       "      <td>0</td>\n",
       "      <td>1</td>\n",
       "      <td>BA/BSc</td>\n",
       "    </tr>\n",
       "    <tr>\n",
       "      <th>2</th>\n",
       "      <td>707658</td>\n",
       "      <td>Sirsa</td>\n",
       "      <td>1</td>\n",
       "      <td>44</td>\n",
       "      <td>2014-05-01</td>\n",
       "      <td>2017-05-03</td>\n",
       "      <td>3.008219</td>\n",
       "      <td>9</td>\n",
       "      <td>5</td>\n",
       "      <td>197.19</td>\n",
       "      <td>581.241054</td>\n",
       "      <td>858931.627962</td>\n",
       "      <td>B.Sc.(Agri)</td>\n",
       "      <td>1.065075e+06</td>\n",
       "      <td>0.240000</td>\n",
       "      <td>0</td>\n",
       "      <td>0</td>\n",
       "      <td>0</td>\n",
       "      <td>0</td>\n",
       "      <td>BA/BSc</td>\n",
       "    </tr>\n",
       "  </tbody>\n",
       "</table>\n",
       "</div>"
      ],
      "text/plain": [
       "   Emp No           HQ  State  Age        DOJ Date of Resignation  \\\n",
       "0  709022        Hisar      1   53 2015-05-01          2016-07-20   \n",
       "1  711246  Kurukshetra      1   37 2016-07-26          2016-12-02   \n",
       "2  707658        Sirsa      1   44 2014-05-01          2017-05-03   \n",
       "\n",
       "   Tenure with Tata  Total Experience  Last Rating  SR Target      SR Ach  \\\n",
       "0          1.221918                 1            3     150.00  175.000000   \n",
       "1          0.353425                11            2     138.41  166.367434   \n",
       "2          3.008219                 9            5     197.19  581.241054   \n",
       "\n",
       "   Last CTC Drawn Education Background     New Offer  % Increase  \\\n",
       "0   440042.875969          M.Sc.(Agri)  6.000000e+05    0.363503   \n",
       "1   665692.400000          B.Sc.(Agri)  7.800000e+05    0.171712   \n",
       "2   858931.627962          B.Sc.(Agri)  1.065075e+06    0.240000   \n",
       "\n",
       "   is_young_emp  is_tenure<=3  is_exp<=5  israting_bad Edu_category  \n",
       "0             0             1          1             1         M.Sc  \n",
       "1             0             1          0             1       BA/BSc  \n",
       "2             0             0          0             0       BA/BSc  "
      ]
     },
     "execution_count": 40,
     "metadata": {},
     "output_type": "execute_result"
    }
   ],
   "source": [
    "df.head(3)"
   ]
  },
  {
   "cell_type": "code",
   "execution_count": 41,
   "metadata": {},
   "outputs": [
    {
     "data": {
      "image/png": "[encoded data removed]",
      "text/plain": [
       "<Figure size 1152x360 with 1 Axes>"
      ]
     },
     "metadata": {
      "needs_background": "light"
     },
     "output_type": "display_data"
    }
   ],
   "source": [
    "plt.figure(figsize=[16,5])\n",
    "plt.hist(df['New Offer'], bins=8, color='brown')\n",
    "plt.title('New Offer Distribution')\n",
    "plt.show()"
   ]
  },
  {
   "cell_type": "code",
   "execution_count": 42,
   "metadata": {},
   "outputs": [
    {
     "data": {
      "image/png": "[encoded data removed]",
      "text/plain": [
       "<Figure size 720x432 with 1 Axes>"
      ]
     },
     "metadata": {
      "needs_background": "light"
     },
     "output_type": "display_data"
    }
   ],
   "source": [
    "plt.figure(figsize=(10,6))\n",
    "sns.countplot(data=df, x='State')\n",
    "plt.title('State Distribution')\n",
    "plt.show()"
   ]
  },
  {
   "cell_type": "markdown",
   "metadata": {},
   "source": [
    "### Hypothesis Testing"
   ]
  },
  {
   "cell_type": "code",
   "execution_count": 43,
   "metadata": {},
   "outputs": [],
   "source": [
    "from statsmodels.stats.proportion import proportions_ztest\n",
    "from scipy import stats"
   ]
  },
  {
   "cell_type": "code",
   "execution_count": 44,
   "metadata": {},
   "outputs": [
    {
     "name": "stdout",
     "output_type": "stream",
     "text": [
      "1.9369712348090343e-05\n",
      "The proportion of individuals with age less than 36 years is significantly higher (p-value=0.0000)\n"
     ]
    }
   ],
   "source": [
    "count = df['is_young_emp'].value_counts()[1]\n",
    "n_obs = df.shape[0]\n",
    "value = 0.5  # null hypothesis proportion\n",
    "stat, pval = proportions_ztest(count, n_obs, value)\n",
    "# print the test result\n",
    "print(pval)\n",
    "if pval < 0.05:\n",
    "    print(f\"The proportion of individuals with age less than 36 years is significantly higher (p-value={pval:.4f})\")\n",
    "else:\n",
    "    print(f\"The proportion of individuals with age less than 36 years is not significantly higher (p-value={pval:.4f})\")"
   ]
  },
  {
   "cell_type": "code",
   "execution_count": 45,
   "metadata": {},
   "outputs": [
    {
     "name": "stdout",
     "output_type": "stream",
     "text": [
      "1.9369712348090343e-05\n",
      "The proportion of individuals with tenure in tata less than equal to 3 years is significantly higher than 0.5 (p-value=0.0000)\n"
     ]
    }
   ],
   "source": [
    "count = df['is_tenure<=3'].value_counts()[1]\n",
    "n_obs = df.shape[0]\n",
    "value = 0.5  # null hypothesis proportion\n",
    "stat, pval = proportions_ztest(count, n_obs, value)\n",
    "# print the test result\n",
    "print(pval)\n",
    "if pval < 0.05:\n",
    "    print(f\"The proportion of individuals with tenure in tata less than equal to 3 years is significantly higher than 0.5 (p-value={pval:.4f})\")\n",
    "else:\n",
    "    print(f\"The proportion of individuals tenure in tata less than equal to 3 years is not significantly higher than 0.5 (p-value={pval:.4f})\")"
   ]
  },
  {
   "cell_type": "code",
   "execution_count": 46,
   "metadata": {},
   "outputs": [
    {
     "name": "stdout",
     "output_type": "stream",
     "text": [
      "0.26717950520037337\n",
      "The proportion of individuals with total experience less than 5 years is not significantly higher (p-value=0.2672)\n"
     ]
    }
   ],
   "source": [
    "count = df['is_exp<=5'].value_counts()[1]\n",
    "n_obs = df.shape[0]\n",
    "value = 0.5  # null hypothesis proportion\n",
    "stat, pval = proportions_ztest(count, n_obs, value)\n",
    "# print the test result\n",
    "print(pval)\n",
    "if pval < 0.05:\n",
    "    print(f\"The proportion of individuals with total experience less than 5 years is significantly higher (p-value={pval:.4f})\")\n",
    "else:\n",
    "    print(f\"The proportion of individuals with total experience less than 5 years is not significantly higher (p-value={pval:.4f})\")"
   ]
  },
  {
   "cell_type": "code",
   "execution_count": 47,
   "metadata": {},
   "outputs": [
    {
     "name": "stdout",
     "output_type": "stream",
     "text": [
      "1.6722671581425821e-18\n",
      "The proportion of individuals with last rating 2 or 3 is significantly higher (p-value=0.0000)\n"
     ]
    }
   ],
   "source": [
    "count = df['israting_bad'].value_counts()[1]\n",
    "n_obs = df.shape[0]\n",
    "value = 0.5  # null hypothesis proportion\n",
    "stat, pval = proportions_ztest(count, n_obs, value)\n",
    "# print the test result\n",
    "print(pval)\n",
    "if pval < 0.05:\n",
    "    print(f\"The proportion of individuals with last rating 2 or 3 is significantly higher (p-value={pval:.4f})\")\n",
    "else:\n",
    "    print(f\"The proportion of individuals with last rating 2 or 3 is not significantly higher (p-value={pval:.4f})\")"
   ]
  },
  {
   "cell_type": "code",
   "execution_count": 48,
   "metadata": {},
   "outputs": [
    {
     "data": {
      "text/html": [
       "<div>\n",
       "<style scoped>\n",
       "    .dataframe tbody tr th:only-of-type {\n",
       "        vertical-align: middle;\n",
       "    }\n",
       "\n",
       "    .dataframe tbody tr th {\n",
       "        vertical-align: top;\n",
       "    }\n",
       "\n",
       "    .dataframe thead th {\n",
       "        text-align: right;\n",
       "    }\n",
       "</style>\n",
       "<table border=\"1\" class=\"dataframe\">\n",
       "  <thead>\n",
       "    <tr style=\"text-align: right;\">\n",
       "      <th></th>\n",
       "      <th>Emp No</th>\n",
       "      <th>HQ</th>\n",
       "      <th>State</th>\n",
       "      <th>Age</th>\n",
       "      <th>DOJ</th>\n",
       "      <th>Date of Resignation</th>\n",
       "      <th>Tenure with Tata</th>\n",
       "      <th>Total Experience</th>\n",
       "      <th>Last Rating</th>\n",
       "      <th>SR Target</th>\n",
       "      <th>SR Ach</th>\n",
       "      <th>Last CTC Drawn</th>\n",
       "      <th>Education Background</th>\n",
       "      <th>New Offer</th>\n",
       "      <th>% Increase</th>\n",
       "      <th>is_young_emp</th>\n",
       "      <th>is_tenure&lt;=3</th>\n",
       "      <th>is_exp&lt;=5</th>\n",
       "      <th>israting_bad</th>\n",
       "      <th>Edu_category</th>\n",
       "    </tr>\n",
       "  </thead>\n",
       "  <tbody>\n",
       "    <tr>\n",
       "      <th>0</th>\n",
       "      <td>709022</td>\n",
       "      <td>Hisar</td>\n",
       "      <td>1</td>\n",
       "      <td>53</td>\n",
       "      <td>2015-05-01</td>\n",
       "      <td>2016-07-20</td>\n",
       "      <td>1.221918</td>\n",
       "      <td>1</td>\n",
       "      <td>3</td>\n",
       "      <td>150.00</td>\n",
       "      <td>175.000000</td>\n",
       "      <td>440042.875969</td>\n",
       "      <td>M.Sc.(Agri)</td>\n",
       "      <td>6.000000e+05</td>\n",
       "      <td>0.363503</td>\n",
       "      <td>0</td>\n",
       "      <td>1</td>\n",
       "      <td>1</td>\n",
       "      <td>1</td>\n",
       "      <td>M.Sc</td>\n",
       "    </tr>\n",
       "    <tr>\n",
       "      <th>1</th>\n",
       "      <td>711246</td>\n",
       "      <td>Kurukshetra</td>\n",
       "      <td>1</td>\n",
       "      <td>37</td>\n",
       "      <td>2016-07-26</td>\n",
       "      <td>2016-12-02</td>\n",
       "      <td>0.353425</td>\n",
       "      <td>11</td>\n",
       "      <td>2</td>\n",
       "      <td>138.41</td>\n",
       "      <td>166.367434</td>\n",
       "      <td>665692.400000</td>\n",
       "      <td>B.Sc.(Agri)</td>\n",
       "      <td>7.800000e+05</td>\n",
       "      <td>0.171712</td>\n",
       "      <td>0</td>\n",
       "      <td>1</td>\n",
       "      <td>0</td>\n",
       "      <td>1</td>\n",
       "      <td>BA/BSc</td>\n",
       "    </tr>\n",
       "    <tr>\n",
       "      <th>2</th>\n",
       "      <td>707658</td>\n",
       "      <td>Sirsa</td>\n",
       "      <td>1</td>\n",
       "      <td>44</td>\n",
       "      <td>2014-05-01</td>\n",
       "      <td>2017-05-03</td>\n",
       "      <td>3.008219</td>\n",
       "      <td>9</td>\n",
       "      <td>5</td>\n",
       "      <td>197.19</td>\n",
       "      <td>581.241054</td>\n",
       "      <td>858931.627962</td>\n",
       "      <td>B.Sc.(Agri)</td>\n",
       "      <td>1.065075e+06</td>\n",
       "      <td>0.240000</td>\n",
       "      <td>0</td>\n",
       "      <td>0</td>\n",
       "      <td>0</td>\n",
       "      <td>0</td>\n",
       "      <td>BA/BSc</td>\n",
       "    </tr>\n",
       "  </tbody>\n",
       "</table>\n",
       "</div>"
      ],
      "text/plain": [
       "   Emp No           HQ  State  Age        DOJ Date of Resignation  \\\n",
       "0  709022        Hisar      1   53 2015-05-01          2016-07-20   \n",
       "1  711246  Kurukshetra      1   37 2016-07-26          2016-12-02   \n",
       "2  707658        Sirsa      1   44 2014-05-01          2017-05-03   \n",
       "\n",
       "   Tenure with Tata  Total Experience  Last Rating  SR Target      SR Ach  \\\n",
       "0          1.221918                 1            3     150.00  175.000000   \n",
       "1          0.353425                11            2     138.41  166.367434   \n",
       "2          3.008219                 9            5     197.19  581.241054   \n",
       "\n",
       "   Last CTC Drawn Education Background     New Offer  % Increase  \\\n",
       "0   440042.875969          M.Sc.(Agri)  6.000000e+05    0.363503   \n",
       "1   665692.400000          B.Sc.(Agri)  7.800000e+05    0.171712   \n",
       "2   858931.627962          B.Sc.(Agri)  1.065075e+06    0.240000   \n",
       "\n",
       "   is_young_emp  is_tenure<=3  is_exp<=5  israting_bad Edu_category  \n",
       "0             0             1          1             1         M.Sc  \n",
       "1             0             1          0             1       BA/BSc  \n",
       "2             0             0          0             0       BA/BSc  "
      ]
     },
     "execution_count": 48,
     "metadata": {},
     "output_type": "execute_result"
    }
   ],
   "source": [
    "df.head(3)"
   ]
  },
  {
   "cell_type": "code",
   "execution_count": null,
   "metadata": {},
   "outputs": [],
   "source": []
  },
  {
   "cell_type": "markdown",
   "metadata": {},
   "source": [
    "## Bi variate Analysis"
   ]
  },
  {
   "cell_type": "code",
   "execution_count": 49,
   "metadata": {},
   "outputs": [
    {
     "data": {
      "text/html": [
       "<div>\n",
       "<style scoped>\n",
       "    .dataframe tbody tr th:only-of-type {\n",
       "        vertical-align: middle;\n",
       "    }\n",
       "\n",
       "    .dataframe tbody tr th {\n",
       "        vertical-align: top;\n",
       "    }\n",
       "\n",
       "    .dataframe thead th {\n",
       "        text-align: right;\n",
       "    }\n",
       "</style>\n",
       "<table border=\"1\" class=\"dataframe\">\n",
       "  <thead>\n",
       "    <tr style=\"text-align: right;\">\n",
       "      <th></th>\n",
       "      <th>Emp No</th>\n",
       "      <th>HQ</th>\n",
       "      <th>State</th>\n",
       "      <th>Age</th>\n",
       "      <th>DOJ</th>\n",
       "      <th>Date of Resignation</th>\n",
       "      <th>Tenure with Tata</th>\n",
       "      <th>Total Experience</th>\n",
       "      <th>Last Rating</th>\n",
       "      <th>SR Target</th>\n",
       "      <th>SR Ach</th>\n",
       "      <th>Last CTC Drawn</th>\n",
       "      <th>Education Background</th>\n",
       "      <th>New Offer</th>\n",
       "      <th>% Increase</th>\n",
       "      <th>is_young_emp</th>\n",
       "      <th>is_tenure&lt;=3</th>\n",
       "      <th>is_exp&lt;=5</th>\n",
       "      <th>israting_bad</th>\n",
       "      <th>Edu_category</th>\n",
       "    </tr>\n",
       "  </thead>\n",
       "  <tbody>\n",
       "    <tr>\n",
       "      <th>0</th>\n",
       "      <td>709022</td>\n",
       "      <td>Hisar</td>\n",
       "      <td>1</td>\n",
       "      <td>53</td>\n",
       "      <td>2015-05-01</td>\n",
       "      <td>2016-07-20</td>\n",
       "      <td>1.221918</td>\n",
       "      <td>1</td>\n",
       "      <td>3</td>\n",
       "      <td>150.00</td>\n",
       "      <td>175.000000</td>\n",
       "      <td>440042.875969</td>\n",
       "      <td>M.Sc.(Agri)</td>\n",
       "      <td>6.000000e+05</td>\n",
       "      <td>0.363503</td>\n",
       "      <td>0</td>\n",
       "      <td>1</td>\n",
       "      <td>1</td>\n",
       "      <td>1</td>\n",
       "      <td>M.Sc</td>\n",
       "    </tr>\n",
       "    <tr>\n",
       "      <th>1</th>\n",
       "      <td>711246</td>\n",
       "      <td>Kurukshetra</td>\n",
       "      <td>1</td>\n",
       "      <td>37</td>\n",
       "      <td>2016-07-26</td>\n",
       "      <td>2016-12-02</td>\n",
       "      <td>0.353425</td>\n",
       "      <td>11</td>\n",
       "      <td>2</td>\n",
       "      <td>138.41</td>\n",
       "      <td>166.367434</td>\n",
       "      <td>665692.400000</td>\n",
       "      <td>B.Sc.(Agri)</td>\n",
       "      <td>7.800000e+05</td>\n",
       "      <td>0.171712</td>\n",
       "      <td>0</td>\n",
       "      <td>1</td>\n",
       "      <td>0</td>\n",
       "      <td>1</td>\n",
       "      <td>BA/BSc</td>\n",
       "    </tr>\n",
       "    <tr>\n",
       "      <th>2</th>\n",
       "      <td>707658</td>\n",
       "      <td>Sirsa</td>\n",
       "      <td>1</td>\n",
       "      <td>44</td>\n",
       "      <td>2014-05-01</td>\n",
       "      <td>2017-05-03</td>\n",
       "      <td>3.008219</td>\n",
       "      <td>9</td>\n",
       "      <td>5</td>\n",
       "      <td>197.19</td>\n",
       "      <td>581.241054</td>\n",
       "      <td>858931.627962</td>\n",
       "      <td>B.Sc.(Agri)</td>\n",
       "      <td>1.065075e+06</td>\n",
       "      <td>0.240000</td>\n",
       "      <td>0</td>\n",
       "      <td>0</td>\n",
       "      <td>0</td>\n",
       "      <td>0</td>\n",
       "      <td>BA/BSc</td>\n",
       "    </tr>\n",
       "  </tbody>\n",
       "</table>\n",
       "</div>"
      ],
      "text/plain": [
       "   Emp No           HQ  State  Age        DOJ Date of Resignation  \\\n",
       "0  709022        Hisar      1   53 2015-05-01          2016-07-20   \n",
       "1  711246  Kurukshetra      1   37 2016-07-26          2016-12-02   \n",
       "2  707658        Sirsa      1   44 2014-05-01          2017-05-03   \n",
       "\n",
       "   Tenure with Tata  Total Experience  Last Rating  SR Target      SR Ach  \\\n",
       "0          1.221918                 1            3     150.00  175.000000   \n",
       "1          0.353425                11            2     138.41  166.367434   \n",
       "2          3.008219                 9            5     197.19  581.241054   \n",
       "\n",
       "   Last CTC Drawn Education Background     New Offer  % Increase  \\\n",
       "0   440042.875969          M.Sc.(Agri)  6.000000e+05    0.363503   \n",
       "1   665692.400000          B.Sc.(Agri)  7.800000e+05    0.171712   \n",
       "2   858931.627962          B.Sc.(Agri)  1.065075e+06    0.240000   \n",
       "\n",
       "   is_young_emp  is_tenure<=3  is_exp<=5  israting_bad Edu_category  \n",
       "0             0             1          1             1         M.Sc  \n",
       "1             0             1          0             1       BA/BSc  \n",
       "2             0             0          0             0       BA/BSc  "
      ]
     },
     "execution_count": 49,
     "metadata": {},
     "output_type": "execute_result"
    }
   ],
   "source": [
    "df.head(3)"
   ]
  },
  {
   "cell_type": "code",
   "execution_count": 50,
   "metadata": {},
   "outputs": [
    {
     "data": {
      "image/png": "[encoded data removed]",
      "text/plain": [
       "<Figure size 720x432 with 1 Axes>"
      ]
     },
     "metadata": {
      "needs_background": "light"
     },
     "output_type": "display_data"
    }
   ],
   "source": [
    "plt.figure(figsize=(10,6))\n",
    "sns.countplot(x='State', hue='Edu_category', data=df)\n",
    "plt.title('State vs Edu_category')\n",
    "plt.show()"
   ]
  },
  {
   "cell_type": "code",
   "execution_count": 51,
   "metadata": {},
   "outputs": [
    {
     "data": {
      "image/png": "[encoded data removed]",
      "text/plain": [
       "<Figure size 720x432 with 1 Axes>"
      ]
     },
     "metadata": {
      "needs_background": "light"
     },
     "output_type": "display_data"
    }
   ],
   "source": [
    "plt.figure(figsize=(10,6))\n",
    "sns.countplot(data=df, x='Last Rating', hue='Edu_category')\n",
    "plt.title('State vs Edu_category')\n",
    "plt.show()"
   ]
  },
  {
   "cell_type": "code",
   "execution_count": 52,
   "metadata": {},
   "outputs": [
    {
     "data": {
      "image/png": "[encoded data removed]",
      "text/plain": [
       "<Figure size 1440x360 with 1 Axes>"
      ]
     },
     "metadata": {
      "needs_background": "light"
     },
     "output_type": "display_data"
    }
   ],
   "source": [
    "plt.figure(figsize=[20,5])\n",
    "sns.countplot(x= df['Age'], data=df, hue=df['is_young_emp'])\n",
    "plt.show()"
   ]
  },
  {
   "cell_type": "code",
   "execution_count": 53,
   "metadata": {},
   "outputs": [],
   "source": [
    "edu_categories = df['Edu_category'].unique()"
   ]
  },
  {
   "cell_type": "code",
   "execution_count": 54,
   "metadata": {},
   "outputs": [
    {
     "data": {
      "image/png": "[encoded data removed]",
      "text/plain": [
       "<Figure size 720x432 with 1 Axes>"
      ]
     },
     "metadata": {
      "needs_background": "light"
     },
     "output_type": "display_data"
    }
   ],
   "source": [
    "fig, ax = plt.subplots(figsize=(10, 6))\n",
    "\n",
    "for i, category in enumerate(edu_categories):\n",
    "    data = df[df['Edu_category'] == category]['Age']\n",
    "    ax.hist(data, bins=10, alpha=0.7, label=category)\n",
    "\n",
    "\n",
    "ax.set_xlabel('Age')\n",
    "ax.set_ylabel('Frequency')\n",
    "ax.set_title('Age by Education Category')\n",
    "ax.legend()\n",
    "plt.show()"
   ]
  },
  {
   "cell_type": "code",
   "execution_count": 55,
   "metadata": {},
   "outputs": [
    {
     "data": {
      "image/png": "[encoded data removed]",
      "text/plain": [
       "<Figure size 720x432 with 1 Axes>"
      ]
     },
     "metadata": {
      "needs_background": "light"
     },
     "output_type": "display_data"
    }
   ],
   "source": [
    "fig, ax = plt.subplots(figsize=(10, 6))\n",
    "\n",
    "for i, category in enumerate(edu_categories):\n",
    "    data = df[df['Edu_category'] == category]['Tenure with Tata']\n",
    "    ax.hist(data, bins=10, alpha=0.7, label=category)\n",
    "\n",
    "ax.set_xlabel('Tenure with Tata')\n",
    "ax.set_ylabel('Frequency')\n",
    "ax.set_title('Tenure with Tata Distribution by Education Category')\n",
    "ax.legend()\n",
    "plt.show()"
   ]
  },
  {
   "cell_type": "code",
   "execution_count": 56,
   "metadata": {},
   "outputs": [
    {
     "data": {
      "image/png": "[encoded data removed]",
      "text/plain": [
       "<Figure size 720x432 with 1 Axes>"
      ]
     },
     "metadata": {
      "needs_background": "light"
     },
     "output_type": "display_data"
    }
   ],
   "source": [
    "fig, ax = plt.subplots(figsize=(10, 6))\n",
    "\n",
    "for i, category in enumerate(edu_categories):\n",
    "    data = df[df['Edu_category'] == category]['Total Experience']\n",
    "    ax.hist(data, bins=10, alpha=0.7, label=category)\n",
    "\n",
    "\n",
    "ax.set_xlabel('Total Experience')\n",
    "ax.set_ylabel('Frequency')\n",
    "ax.set_title('Total Experience by Education Category')\n",
    "ax.legend()\n",
    "plt.show()"
   ]
  },
  {
   "cell_type": "code",
   "execution_count": 57,
   "metadata": {},
   "outputs": [
    {
     "data": {
      "image/png": "[encoded data removed]",
      "text/plain": [
       "<Figure size 720x432 with 1 Axes>"
      ]
     },
     "metadata": {
      "needs_background": "light"
     },
     "output_type": "display_data"
    }
   ],
   "source": [
    "\n",
    "fig, ax = plt.subplots(figsize=(10, 6))\n",
    "\n",
    "for i, category in enumerate(edu_categories):\n",
    "    data = df[df['Edu_category'] == category]['% Increase']\n",
    "    ax.hist(data, bins=10, alpha=0.7, label=category)\n",
    "\n",
    "\n",
    "ax.set_xlabel('% Increase')\n",
    "ax.set_ylabel('Frequency')\n",
    "ax.set_title('% Increase by Education Category')\n",
    "ax.legend()\n",
    "plt.show()"
   ]
  },
  {
   "cell_type": "code",
   "execution_count": 58,
   "metadata": {},
   "outputs": [],
   "source": [
    "# Analyzing percentage  of target achieved\n",
    "\n",
    "df['target_percent_achieved'] = (df['SR Ach']/df['SR Target'])*100"
   ]
  },
  {
   "cell_type": "code",
   "execution_count": 59,
   "metadata": {},
   "outputs": [
    {
     "data": {
      "image/png": "[encoded data removed]",
      "text/plain": [
       "<Figure size 1152x360 with 1 Axes>"
      ]
     },
     "metadata": {
      "needs_background": "light"
     },
     "output_type": "display_data"
    }
   ],
   "source": [
    "plt.figure(figsize=[16,5])\n",
    "plt.hist(df['target_percent_achieved'], bins=10, color='brown')\n",
    "plt.title('target percent achieved Distribution')\n",
    "plt.show()"
   ]
  },
  {
   "cell_type": "code",
   "execution_count": null,
   "metadata": {},
   "outputs": [],
   "source": []
  },
  {
   "cell_type": "markdown",
   "metadata": {},
   "source": [
    "### Decision Tree"
   ]
  },
  {
   "cell_type": "markdown",
   "metadata": {},
   "source": [
    "Creating an output variable \"is_EarlyAttrition\". I want to analyze the factors affecting early attrition."
   ]
  },
  {
   "cell_type": "code",
   "execution_count": 60,
   "metadata": {},
   "outputs": [
    {
     "data": {
      "text/html": [
       "<div>\n",
       "<style scoped>\n",
       "    .dataframe tbody tr th:only-of-type {\n",
       "        vertical-align: middle;\n",
       "    }\n",
       "\n",
       "    .dataframe tbody tr th {\n",
       "        vertical-align: top;\n",
       "    }\n",
       "\n",
       "    .dataframe thead th {\n",
       "        text-align: right;\n",
       "    }\n",
       "</style>\n",
       "<table border=\"1\" class=\"dataframe\">\n",
       "  <thead>\n",
       "    <tr style=\"text-align: right;\">\n",
       "      <th></th>\n",
       "      <th>Emp No</th>\n",
       "      <th>HQ</th>\n",
       "      <th>State</th>\n",
       "      <th>Age</th>\n",
       "      <th>DOJ</th>\n",
       "      <th>Date of Resignation</th>\n",
       "      <th>Tenure with Tata</th>\n",
       "      <th>Total Experience</th>\n",
       "      <th>Last Rating</th>\n",
       "      <th>SR Target</th>\n",
       "      <th>...</th>\n",
       "      <th>Last CTC Drawn</th>\n",
       "      <th>Education Background</th>\n",
       "      <th>New Offer</th>\n",
       "      <th>% Increase</th>\n",
       "      <th>is_young_emp</th>\n",
       "      <th>is_tenure&lt;=3</th>\n",
       "      <th>is_exp&lt;=5</th>\n",
       "      <th>israting_bad</th>\n",
       "      <th>Edu_category</th>\n",
       "      <th>target_percent_achieved</th>\n",
       "    </tr>\n",
       "  </thead>\n",
       "  <tbody>\n",
       "    <tr>\n",
       "      <th>0</th>\n",
       "      <td>709022</td>\n",
       "      <td>Hisar</td>\n",
       "      <td>1</td>\n",
       "      <td>53</td>\n",
       "      <td>2015-05-01</td>\n",
       "      <td>2016-07-20</td>\n",
       "      <td>1.221918</td>\n",
       "      <td>1</td>\n",
       "      <td>3</td>\n",
       "      <td>150.00</td>\n",
       "      <td>...</td>\n",
       "      <td>440042.875969</td>\n",
       "      <td>M.Sc.(Agri)</td>\n",
       "      <td>6.000000e+05</td>\n",
       "      <td>0.363503</td>\n",
       "      <td>0</td>\n",
       "      <td>1</td>\n",
       "      <td>1</td>\n",
       "      <td>1</td>\n",
       "      <td>M.Sc</td>\n",
       "      <td>116.666667</td>\n",
       "    </tr>\n",
       "    <tr>\n",
       "      <th>1</th>\n",
       "      <td>711246</td>\n",
       "      <td>Kurukshetra</td>\n",
       "      <td>1</td>\n",
       "      <td>37</td>\n",
       "      <td>2016-07-26</td>\n",
       "      <td>2016-12-02</td>\n",
       "      <td>0.353425</td>\n",
       "      <td>11</td>\n",
       "      <td>2</td>\n",
       "      <td>138.41</td>\n",
       "      <td>...</td>\n",
       "      <td>665692.400000</td>\n",
       "      <td>B.Sc.(Agri)</td>\n",
       "      <td>7.800000e+05</td>\n",
       "      <td>0.171712</td>\n",
       "      <td>0</td>\n",
       "      <td>1</td>\n",
       "      <td>0</td>\n",
       "      <td>1</td>\n",
       "      <td>BA/BSc</td>\n",
       "      <td>120.198998</td>\n",
       "    </tr>\n",
       "    <tr>\n",
       "      <th>2</th>\n",
       "      <td>707658</td>\n",
       "      <td>Sirsa</td>\n",
       "      <td>1</td>\n",
       "      <td>44</td>\n",
       "      <td>2014-05-01</td>\n",
       "      <td>2017-05-03</td>\n",
       "      <td>3.008219</td>\n",
       "      <td>9</td>\n",
       "      <td>5</td>\n",
       "      <td>197.19</td>\n",
       "      <td>...</td>\n",
       "      <td>858931.627962</td>\n",
       "      <td>B.Sc.(Agri)</td>\n",
       "      <td>1.065075e+06</td>\n",
       "      <td>0.240000</td>\n",
       "      <td>0</td>\n",
       "      <td>0</td>\n",
       "      <td>0</td>\n",
       "      <td>0</td>\n",
       "      <td>BA/BSc</td>\n",
       "      <td>294.761932</td>\n",
       "    </tr>\n",
       "  </tbody>\n",
       "</table>\n",
       "<p>3 rows × 21 columns</p>\n",
       "</div>"
      ],
      "text/plain": [
       "   Emp No           HQ  State  Age        DOJ Date of Resignation  \\\n",
       "0  709022        Hisar      1   53 2015-05-01          2016-07-20   \n",
       "1  711246  Kurukshetra      1   37 2016-07-26          2016-12-02   \n",
       "2  707658        Sirsa      1   44 2014-05-01          2017-05-03   \n",
       "\n",
       "   Tenure with Tata  Total Experience  Last Rating  SR Target  ...  \\\n",
       "0          1.221918                 1            3     150.00  ...   \n",
       "1          0.353425                11            2     138.41  ...   \n",
       "2          3.008219                 9            5     197.19  ...   \n",
       "\n",
       "   Last CTC Drawn  Education Background     New Offer  % Increase  \\\n",
       "0   440042.875969           M.Sc.(Agri)  6.000000e+05    0.363503   \n",
       "1   665692.400000           B.Sc.(Agri)  7.800000e+05    0.171712   \n",
       "2   858931.627962           B.Sc.(Agri)  1.065075e+06    0.240000   \n",
       "\n",
       "   is_young_emp  is_tenure<=3  is_exp<=5  israting_bad  Edu_category  \\\n",
       "0             0             1          1             1          M.Sc   \n",
       "1             0             1          0             1        BA/BSc   \n",
       "2             0             0          0             0        BA/BSc   \n",
       "\n",
       "  target_percent_achieved  \n",
       "0              116.666667  \n",
       "1              120.198998  \n",
       "2              294.761932  \n",
       "\n",
       "[3 rows x 21 columns]"
      ]
     },
     "execution_count": 60,
     "metadata": {},
     "output_type": "execute_result"
    }
   ],
   "source": [
    "df.head(3)"
   ]
  },
  {
   "cell_type": "code",
   "execution_count": 61,
   "metadata": {},
   "outputs": [],
   "source": [
    "def get_attrition_category(x):\n",
    "    if x > 2:\n",
    "        return 0\n",
    "    else:\n",
    "        return 1\n",
    "\n",
    "df['is_EarlyAttrition'] = df['Tenure with Tata'].apply(get_attrition_category)"
   ]
  },
  {
   "cell_type": "code",
   "execution_count": 62,
   "metadata": {},
   "outputs": [],
   "source": [
    "df['Grand_Total_Experience'] = df['Tenure with Tata'] + df['Total Experience']"
   ]
  },
  {
   "cell_type": "markdown",
   "metadata": {},
   "source": [
    "### Data pre processing"
   ]
  },
  {
   "cell_type": "code",
   "execution_count": 63,
   "metadata": {},
   "outputs": [],
   "source": [
    "import statsmodels.api as sm\n",
    "from sklearn.model_selection import GridSearchCV, train_test_split"
   ]
  },
  {
   "cell_type": "code",
   "execution_count": 64,
   "metadata": {},
   "outputs": [
    {
     "name": "stdout",
     "output_type": "stream",
     "text": [
      "Requirement already satisfied: imbalanced-learn in /opt/conda/lib/python3.9/site-packages (0.10.1)\n",
      "Requirement already satisfied: joblib>=1.1.1 in /opt/conda/lib/python3.9/site-packages (from imbalanced-learn) (1.2.0)\n",
      "Requirement already satisfied: numpy>=1.17.3 in /opt/conda/lib/python3.9/site-packages (from imbalanced-learn) (1.20.3)\n",
      "Requirement already satisfied: scikit-learn>=1.0.2 in /opt/conda/lib/python3.9/site-packages (from imbalanced-learn) (1.2.2)\n",
      "Requirement already satisfied: scipy>=1.3.2 in /opt/conda/lib/python3.9/site-packages (from imbalanced-learn) (1.7.2)\n",
      "Requirement already satisfied: threadpoolctl>=2.0.0 in /opt/conda/lib/python3.9/site-packages (from imbalanced-learn) (3.0.0)\n"
     ]
    }
   ],
   "source": [
    "!pip install -U imbalanced-learn\n",
    "from imblearn import under_sampling, over_sampling\n",
    "from imblearn.over_sampling import SMOTE"
   ]
  },
  {
   "cell_type": "code",
   "execution_count": 65,
   "metadata": {},
   "outputs": [],
   "source": [
    "df.dropna(inplace =True)\n",
    "## data pre-processing\n",
    "\n",
    "one_hot = pd.get_dummies(df['State'],drop_first = True)\n",
    "\n",
    "df = df.join(one_hot)"
   ]
  },
  {
   "cell_type": "code",
   "execution_count": 66,
   "metadata": {},
   "outputs": [],
   "source": [
    "#data_pre processing \n",
    "\n",
    "def edu_cat(x):\n",
    "    if x == \"PH.D\":\n",
    "        return 4\n",
    "    elif x == \"MBA\":\n",
    "        return 3\n",
    "    elif x == \"M.Sc\":\n",
    "        return 2\n",
    "    else:\n",
    "        return 1\n",
    "    \n",
    "df['edu_encoded'] = df['Edu_category'].apply(edu_cat)"
   ]
  },
  {
   "cell_type": "code",
   "execution_count": 67,
   "metadata": {},
   "outputs": [
    {
     "data": {
      "text/html": [
       "<style>#sk-container-id-1 {color: black;background-color: white;}#sk-container-id-1 pre{padding: 0;}#sk-container-id-1 div.sk-toggleable {background-color: white;}#sk-container-id-1 label.sk-toggleable__label {cursor: pointer;display: block;width: 100%;margin-bottom: 0;padding: 0.3em;box-sizing: border-box;text-align: center;}#sk-container-id-1 label.sk-toggleable__label-arrow:before {content: \"▸\";float: left;margin-right: 0.25em;color: #696969;}#sk-container-id-1 label.sk-toggleable__label-arrow:hover:before {color: black;}#sk-container-id-1 div.sk-estimator:hover label.sk-toggleable__label-arrow:before {color: black;}#sk-container-id-1 div.sk-toggleable__content {max-height: 0;max-width: 0;overflow: hidden;text-align: left;background-color: #f0f8ff;}#sk-container-id-1 div.sk-toggleable__content pre {margin: 0.2em;color: black;border-radius: 0.25em;background-color: #f0f8ff;}#sk-container-id-1 input.sk-toggleable__control:checked~div.sk-toggleable__content {max-height: 200px;max-width: 100%;overflow: auto;}#sk-container-id-1 input.sk-toggleable__control:checked~label.sk-toggleable__label-arrow:before {content: \"▾\";}#sk-container-id-1 div.sk-estimator input.sk-toggleable__control:checked~label.sk-toggleable__label {background-color: #d4ebff;}#sk-container-id-1 div.sk-label input.sk-toggleable__control:checked~label.sk-toggleable__label {background-color: #d4ebff;}#sk-container-id-1 input.sk-hidden--visually {border: 0;clip: rect(1px 1px 1px 1px);clip: rect(1px, 1px, 1px, 1px);height: 1px;margin: -1px;overflow: hidden;padding: 0;position: absolute;width: 1px;}#sk-container-id-1 div.sk-estimator {font-family: monospace;background-color: #f0f8ff;border: 1px dotted black;border-radius: 0.25em;box-sizing: border-box;margin-bottom: 0.5em;}#sk-container-id-1 div.sk-estimator:hover {background-color: #d4ebff;}#sk-container-id-1 div.sk-parallel-item::after {content: \"\";width: 100%;border-bottom: 1px solid gray;flex-grow: 1;}#sk-container-id-1 div.sk-label:hover label.sk-toggleable__label {background-color: #d4ebff;}#sk-container-id-1 div.sk-serial::before {content: \"\";position: absolute;border-left: 1px solid gray;box-sizing: border-box;top: 0;bottom: 0;left: 50%;z-index: 0;}#sk-container-id-1 div.sk-serial {display: flex;flex-direction: column;align-items: center;background-color: white;padding-right: 0.2em;padding-left: 0.2em;position: relative;}#sk-container-id-1 div.sk-item {position: relative;z-index: 1;}#sk-container-id-1 div.sk-parallel {display: flex;align-items: stretch;justify-content: center;background-color: white;position: relative;}#sk-container-id-1 div.sk-item::before, #sk-container-id-1 div.sk-parallel-item::before {content: \"\";position: absolute;border-left: 1px solid gray;box-sizing: border-box;top: 0;bottom: 0;left: 50%;z-index: -1;}#sk-container-id-1 div.sk-parallel-item {display: flex;flex-direction: column;z-index: 1;position: relative;background-color: white;}#sk-container-id-1 div.sk-parallel-item:first-child::after {align-self: flex-end;width: 50%;}#sk-container-id-1 div.sk-parallel-item:last-child::after {align-self: flex-start;width: 50%;}#sk-container-id-1 div.sk-parallel-item:only-child::after {width: 0;}#sk-container-id-1 div.sk-dashed-wrapped {border: 1px dashed gray;margin: 0 0.4em 0.5em 0.4em;box-sizing: border-box;padding-bottom: 0.4em;background-color: white;}#sk-container-id-1 div.sk-label label {font-family: monospace;font-weight: bold;display: inline-block;line-height: 1.2em;}#sk-container-id-1 div.sk-label-container {text-align: center;}#sk-container-id-1 div.sk-container {/* jupyter's `normalize.less` sets `[hidden] { display: none; }` but bootstrap.min.css set `[hidden] { display: none !important; }` so we also need the `!important` here to be able to override the default hidden behavior on the sphinx rendered scikit-learn.org. See: https://github.com/scikit-learn/scikit-learn/issues/21755 */display: inline-block !important;position: relative;}#sk-container-id-1 div.sk-text-repr-fallback {display: none;}</style><div id=\"sk-container-id-1\" class=\"sk-top-container\"><div class=\"sk-text-repr-fallback\"><pre>GridSearchCV(cv=10, estimator=DecisionTreeClassifier(),\n",
       "             param_grid={&#x27;criterion&#x27;: [&#x27;gini&#x27;, &#x27;entropy&#x27;],\n",
       "                         &#x27;max_depth&#x27;: [3, 4, 5, 6, 7, 8, 9, 10, 11, 12, 13, 14,\n",
       "                                       15],\n",
       "                         &#x27;max_features&#x27;: [None, &#x27;sqrt&#x27;, &#x27;log2&#x27;],\n",
       "                         &#x27;min_samples_leaf&#x27;: [1, 2, 4, 8],\n",
       "                         &#x27;min_samples_split&#x27;: [2, 4, 8, 16]})</pre><b>In a Jupyter environment, please rerun this cell to show the HTML representation or trust the notebook. <br />On GitHub, the HTML representation is unable to render, please try loading this page with nbviewer.org.</b></div><div class=\"sk-container\" hidden><div class=\"sk-item sk-dashed-wrapped\"><div class=\"sk-label-container\"><div class=\"sk-label sk-toggleable\"><input class=\"sk-toggleable__control sk-hidden--visually\" id=\"sk-estimator-id-1\" type=\"checkbox\" ><label for=\"sk-estimator-id-1\" class=\"sk-toggleable__label sk-toggleable__label-arrow\">GridSearchCV</label><div class=\"sk-toggleable__content\"><pre>GridSearchCV(cv=10, estimator=DecisionTreeClassifier(),\n",
       "             param_grid={&#x27;criterion&#x27;: [&#x27;gini&#x27;, &#x27;entropy&#x27;],\n",
       "                         &#x27;max_depth&#x27;: [3, 4, 5, 6, 7, 8, 9, 10, 11, 12, 13, 14,\n",
       "                                       15],\n",
       "                         &#x27;max_features&#x27;: [None, &#x27;sqrt&#x27;, &#x27;log2&#x27;],\n",
       "                         &#x27;min_samples_leaf&#x27;: [1, 2, 4, 8],\n",
       "                         &#x27;min_samples_split&#x27;: [2, 4, 8, 16]})</pre></div></div></div><div class=\"sk-parallel\"><div class=\"sk-parallel-item\"><div class=\"sk-item\"><div class=\"sk-label-container\"><div class=\"sk-label sk-toggleable\"><input class=\"sk-toggleable__control sk-hidden--visually\" id=\"sk-estimator-id-2\" type=\"checkbox\" ><label for=\"sk-estimator-id-2\" class=\"sk-toggleable__label sk-toggleable__label-arrow\">estimator: DecisionTreeClassifier</label><div class=\"sk-toggleable__content\"><pre>DecisionTreeClassifier()</pre></div></div></div><div class=\"sk-serial\"><div class=\"sk-item\"><div class=\"sk-estimator sk-toggleable\"><input class=\"sk-toggleable__control sk-hidden--visually\" id=\"sk-estimator-id-3\" type=\"checkbox\" ><label for=\"sk-estimator-id-3\" class=\"sk-toggleable__label sk-toggleable__label-arrow\">DecisionTreeClassifier</label><div class=\"sk-toggleable__content\"><pre>DecisionTreeClassifier()</pre></div></div></div></div></div></div></div></div></div></div>"
      ],
      "text/plain": [
       "GridSearchCV(cv=10, estimator=DecisionTreeClassifier(),\n",
       "             param_grid={'criterion': ['gini', 'entropy'],\n",
       "                         'max_depth': [3, 4, 5, 6, 7, 8, 9, 10, 11, 12, 13, 14,\n",
       "                                       15],\n",
       "                         'max_features': [None, 'sqrt', 'log2'],\n",
       "                         'min_samples_leaf': [1, 2, 4, 8],\n",
       "                         'min_samples_split': [2, 4, 8, 16]})"
      ]
     },
     "execution_count": 67,
     "metadata": {},
     "output_type": "execute_result"
    }
   ],
   "source": [
    "from sklearn.tree import DecisionTreeClassifier, export_text\n",
    "\n",
    "param_grid = {\n",
    "    'max_depth': [3,4,5,6,7,8,9,10,11,12,13,14,15],\n",
    "    'min_samples_split': [2, 4, 8, 16],\n",
    "    'min_samples_leaf': [1, 2, 4, 8],\n",
    "    'max_features': [None, 'sqrt', 'log2'],\n",
    "    'criterion': ['gini', 'entropy']\n",
    "}\n",
    "\n",
    "\n",
    "# separate input features and target variable\n",
    "X = df[['edu_encoded', 'Tenure with Tata', 'Total Experience', 'Last Rating', 'SR Target', 'SR Ach', 'Last CTC Drawn', 'New Offer',\n",
    "        '% Increase', 'target_percent_achieved', 'Grand_Total_Experience']]\n",
    "y = df['is_EarlyAttrition']\n",
    "\n",
    "X_train, X_test, y_train, y_test = train_test_split(X, y, test_size=0.2, random_state=42)\n",
    "\n",
    "dt = DecisionTreeClassifier()\n",
    "grid_search = GridSearchCV(dt, param_grid=param_grid, cv=10)\n",
    "grid_search.fit(X_train, y_train)"
   ]
  },
  {
   "cell_type": "code",
   "execution_count": 68,
   "metadata": {},
   "outputs": [
    {
     "data": {
      "text/html": [
       "<style>#sk-container-id-2 {color: black;background-color: white;}#sk-container-id-2 pre{padding: 0;}#sk-container-id-2 div.sk-toggleable {background-color: white;}#sk-container-id-2 label.sk-toggleable__label {cursor: pointer;display: block;width: 100%;margin-bottom: 0;padding: 0.3em;box-sizing: border-box;text-align: center;}#sk-container-id-2 label.sk-toggleable__label-arrow:before {content: \"▸\";float: left;margin-right: 0.25em;color: #696969;}#sk-container-id-2 label.sk-toggleable__label-arrow:hover:before {color: black;}#sk-container-id-2 div.sk-estimator:hover label.sk-toggleable__label-arrow:before {color: black;}#sk-container-id-2 div.sk-toggleable__content {max-height: 0;max-width: 0;overflow: hidden;text-align: left;background-color: #f0f8ff;}#sk-container-id-2 div.sk-toggleable__content pre {margin: 0.2em;color: black;border-radius: 0.25em;background-color: #f0f8ff;}#sk-container-id-2 input.sk-toggleable__control:checked~div.sk-toggleable__content {max-height: 200px;max-width: 100%;overflow: auto;}#sk-container-id-2 input.sk-toggleable__control:checked~label.sk-toggleable__label-arrow:before {content: \"▾\";}#sk-container-id-2 div.sk-estimator input.sk-toggleable__control:checked~label.sk-toggleable__label {background-color: #d4ebff;}#sk-container-id-2 div.sk-label input.sk-toggleable__control:checked~label.sk-toggleable__label {background-color: #d4ebff;}#sk-container-id-2 input.sk-hidden--visually {border: 0;clip: rect(1px 1px 1px 1px);clip: rect(1px, 1px, 1px, 1px);height: 1px;margin: -1px;overflow: hidden;padding: 0;position: absolute;width: 1px;}#sk-container-id-2 div.sk-estimator {font-family: monospace;background-color: #f0f8ff;border: 1px dotted black;border-radius: 0.25em;box-sizing: border-box;margin-bottom: 0.5em;}#sk-container-id-2 div.sk-estimator:hover {background-color: #d4ebff;}#sk-container-id-2 div.sk-parallel-item::after {content: \"\";width: 100%;border-bottom: 1px solid gray;flex-grow: 1;}#sk-container-id-2 div.sk-label:hover label.sk-toggleable__label {background-color: #d4ebff;}#sk-container-id-2 div.sk-serial::before {content: \"\";position: absolute;border-left: 1px solid gray;box-sizing: border-box;top: 0;bottom: 0;left: 50%;z-index: 0;}#sk-container-id-2 div.sk-serial {display: flex;flex-direction: column;align-items: center;background-color: white;padding-right: 0.2em;padding-left: 0.2em;position: relative;}#sk-container-id-2 div.sk-item {position: relative;z-index: 1;}#sk-container-id-2 div.sk-parallel {display: flex;align-items: stretch;justify-content: center;background-color: white;position: relative;}#sk-container-id-2 div.sk-item::before, #sk-container-id-2 div.sk-parallel-item::before {content: \"\";position: absolute;border-left: 1px solid gray;box-sizing: border-box;top: 0;bottom: 0;left: 50%;z-index: -1;}#sk-container-id-2 div.sk-parallel-item {display: flex;flex-direction: column;z-index: 1;position: relative;background-color: white;}#sk-container-id-2 div.sk-parallel-item:first-child::after {align-self: flex-end;width: 50%;}#sk-container-id-2 div.sk-parallel-item:last-child::after {align-self: flex-start;width: 50%;}#sk-container-id-2 div.sk-parallel-item:only-child::after {width: 0;}#sk-container-id-2 div.sk-dashed-wrapped {border: 1px dashed gray;margin: 0 0.4em 0.5em 0.4em;box-sizing: border-box;padding-bottom: 0.4em;background-color: white;}#sk-container-id-2 div.sk-label label {font-family: monospace;font-weight: bold;display: inline-block;line-height: 1.2em;}#sk-container-id-2 div.sk-label-container {text-align: center;}#sk-container-id-2 div.sk-container {/* jupyter's `normalize.less` sets `[hidden] { display: none; }` but bootstrap.min.css set `[hidden] { display: none !important; }` so we also need the `!important` here to be able to override the default hidden behavior on the sphinx rendered scikit-learn.org. See: https://github.com/scikit-learn/scikit-learn/issues/21755 */display: inline-block !important;position: relative;}#sk-container-id-2 div.sk-text-repr-fallback {display: none;}</style><div id=\"sk-container-id-2\" class=\"sk-top-container\"><div class=\"sk-text-repr-fallback\"><pre>DecisionTreeClassifier(max_depth=3)</pre><b>In a Jupyter environment, please rerun this cell to show the HTML representation or trust the notebook. <br />On GitHub, the HTML representation is unable to render, please try loading this page with nbviewer.org.</b></div><div class=\"sk-container\" hidden><div class=\"sk-item\"><div class=\"sk-estimator sk-toggleable\"><input class=\"sk-toggleable__control sk-hidden--visually\" id=\"sk-estimator-id-4\" type=\"checkbox\" checked><label for=\"sk-estimator-id-4\" class=\"sk-toggleable__label sk-toggleable__label-arrow\">DecisionTreeClassifier</label><div class=\"sk-toggleable__content\"><pre>DecisionTreeClassifier(max_depth=3)</pre></div></div></div></div></div>"
      ],
      "text/plain": [
       "DecisionTreeClassifier(max_depth=3)"
      ]
     },
     "execution_count": 68,
     "metadata": {},
     "output_type": "execute_result"
    }
   ],
   "source": [
    "best_params = grid_search.best_params_\n",
    "best_dt = DecisionTreeClassifier(**best_params)\n",
    "best_dt.fit(X_train, y_train)"
   ]
  },
  {
   "cell_type": "code",
   "execution_count": 69,
   "metadata": {},
   "outputs": [
    {
     "name": "stdout",
     "output_type": "stream",
     "text": [
      "|--- Tenure with Tata <= 1.81\n",
      "|   |--- class: 1\n",
      "|--- Tenure with Tata >  1.81\n",
      "|   |--- class: 0\n",
      "\n"
     ]
    }
   ],
   "source": [
    "# obtain rules from decision tree\n",
    "rules = export_text(best_dt, feature_names=list(X.columns))\n",
    "\n",
    "print(rules)"
   ]
  },
  {
   "cell_type": "code",
   "execution_count": 70,
   "metadata": {},
   "outputs": [
    {
     "data": {
      "text/plain": [
       "array([0, 0, 1, 0, 0, 1, 0, 1, 1, 1, 1, 1, 0])"
      ]
     },
     "execution_count": 70,
     "metadata": {},
     "output_type": "execute_result"
    }
   ],
   "source": [
    "y_pred = best_dt.predict(X_test)\n",
    "y_pred"
   ]
  },
  {
   "cell_type": "code",
   "execution_count": 71,
   "metadata": {},
   "outputs": [
    {
     "name": "stdout",
     "output_type": "stream",
     "text": [
      "              precision    recall  f1-score   support\n",
      "\n",
      "           0       0.67      1.00      0.80         4\n",
      "           1       1.00      0.78      0.88         9\n",
      "\n",
      "    accuracy                           0.85        13\n",
      "   macro avg       0.83      0.89      0.84        13\n",
      "weighted avg       0.90      0.85      0.85        13\n",
      "\n"
     ]
    }
   ],
   "source": [
    "from sklearn.metrics import classification_report\n",
    "\n",
    "print(classification_report(y_test,y_pred))"
   ]
  },
  {
   "cell_type": "code",
   "execution_count": null,
   "metadata": {},
   "outputs": [],
   "source": []
  }
 ],
 "metadata": {
  "kernelspec": {
   "display_name": "Python 3 (ipykernel)",
   "language": "python",
   "name": "python3"
  },
  "language_info": {
   "codemirror_mode": {
    "name": "ipython",
    "version": 3
   },
   "file_extension": ".py",
   "mimetype": "text/x-python",
   "name": "python",
   "nbconvert_exporter": "python",
   "pygments_lexer": "ipython3",
   "version": "3.9.7"
  }
 },
 "nbformat": 4,
 "nbformat_minor": 2
}
